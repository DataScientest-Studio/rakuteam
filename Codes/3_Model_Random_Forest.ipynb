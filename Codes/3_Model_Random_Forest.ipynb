{
  "nbformat": 4,
  "nbformat_minor": 0,
  "metadata": {
    "colab": {
      "name": "3_Model_Random_Forest.ipynb",
      "provenance": [],
      "collapsed_sections": []
    },
    "kernelspec": {
      "display_name": "Python 3",
      "language": "python",
      "name": "python3"
    },
    "language_info": {
      "codemirror_mode": {
        "name": "ipython",
        "version": 3
      },
      "file_extension": ".py",
      "mimetype": "text/x-python",
      "name": "python",
      "nbconvert_exporter": "python",
      "pygments_lexer": "ipython3",
      "version": "3.8.3"
    }
  },
  "cells": [
    {
      "cell_type": "code",
      "metadata": {
        "colab": {
          "base_uri": "https://localhost:8080/"
        },
        "id": "gLhlQWMhB_xk",
        "outputId": "d52fa60c-2fc4-49af-ff8c-021c1479776c"
      },
      "source": [
        "import pandas as pd\n",
        "from google.colab import drive\n",
        "get_ipython().run_line_magic('matplotlib', 'inline')\n",
        "import seaborn as sns\n",
        "import requests\n",
        "import io\n",
        "from sklearn.ensemble import VotingClassifier, StackingClassifier\n",
        "from sklearn.model_selection import train_test_split, cross_validate, KFold\n",
        "from sklearn.metrics import f1_score\n",
        "from sklearn.linear_model import LogisticRegression\n",
        "from sklearn.ensemble import RandomForestClassifier\n",
        "from sklearn.neighbors import KNeighborsClassifier\n",
        "\n",
        "from sklearn.metrics import confusion_matrix\n",
        "from sklearn.metrics import classification_report\n",
        "\n",
        "drive.mount('/Drive')"
      ],
      "execution_count": 1,
      "outputs": [
        {
          "output_type": "stream",
          "text": [
            "Drive already mounted at /Drive; to attempt to forcibly remount, call drive.mount(\"/Drive\", force_remount=True).\n"
          ],
          "name": "stdout"
        }
      ]
    },
    {
      "cell_type": "code",
      "metadata": {
        "id": "6vT7fNaK0HsZ"
      },
      "source": [
        "#PARAMETERS before launching\n",
        "#define if we should keep the part \"X_test_challenge\" from the loaded file or ignore it\n",
        "Ignore_X_test_challenge = True\n",
        "isUseJoblib = True\n",
        "FilePath=\"/Drive/My Drive/\""
      ],
      "execution_count": 2,
      "outputs": []
    },
    {
      "cell_type": "code",
      "metadata": {
        "colab": {
          "base_uri": "https://localhost:8080/"
        },
        "id": "uE7Q7N4DCdlt",
        "outputId": "a7729840-e0d5-4dcb-8893-2ac41d98be09"
      },
      "source": [
        "# \n",
        "#Downloading the csv file from your GitHub account\n",
        "\n",
        "url = \"https://raw.githubusercontent.com/JulienJ-44/rakuteam/main/Features/data_features_final.csv\" # Make sure the url is the raw version of the file on GitHub\n",
        "download = requests.get(url).content\n",
        "\n",
        "# Reading the downloaded content and turning it into a pandas dataframe\n",
        "\n",
        "df = pd.read_csv(io.StringIO(download.decode('utf-8')), index_col=0)\n",
        "df['description']=df['description'].fillna(\"\")\n",
        "df.info()"
      ],
      "execution_count": 3,
      "outputs": [
        {
          "output_type": "stream",
          "text": [
            "<class 'pandas.core.frame.DataFrame'>\n",
            "Int64Index: 98728 entries, 0 to 98727\n",
            "Data columns (total 48 columns):\n",
            " #   Column             Non-Null Count  Dtype  \n",
            "---  ------             --------------  -----  \n",
            " 0   designation        98726 non-null  object \n",
            " 1   description        98728 non-null  object \n",
            " 2   productid          98728 non-null  int64  \n",
            " 3   prdtypecode_x      84916 non-null  float64\n",
            " 4   desi_nb_phrases    98728 non-null  int64  \n",
            " 5   desc_nb_phrases    98728 non-null  int64  \n",
            " 6   best_idf           98728 non-null  object \n",
            " 7   class_10.0         98728 non-null  float64\n",
            " 8   class_40.0         98728 non-null  float64\n",
            " 9   class_50.0         98728 non-null  float64\n",
            " 10  class_60.0         98728 non-null  float64\n",
            " 11  class_1140.0       98728 non-null  float64\n",
            " 12  class_1160.0       98728 non-null  float64\n",
            " 13  class_1180.0       98728 non-null  float64\n",
            " 14  class_1280.0       98728 non-null  float64\n",
            " 15  class_1281.0       98728 non-null  float64\n",
            " 16  class_1300.0       98728 non-null  float64\n",
            " 17  class_1301.0       98728 non-null  float64\n",
            " 18  class_1302.0       98728 non-null  float64\n",
            " 19  class_1320.0       98728 non-null  float64\n",
            " 20  class_1560.0       98728 non-null  float64\n",
            " 21  class_1920.0       98728 non-null  float64\n",
            " 22  class_1940.0       98728 non-null  float64\n",
            " 23  class_2060.0       98728 non-null  float64\n",
            " 24  class_2220.0       98728 non-null  float64\n",
            " 25  class_2280.0       98728 non-null  float64\n",
            " 26  class_2403.0       98728 non-null  float64\n",
            " 27  class_2462.0       98728 non-null  float64\n",
            " 28  class_2522.0       98728 non-null  float64\n",
            " 29  class_2582.0       98728 non-null  float64\n",
            " 30  class_2583.0       98728 non-null  float64\n",
            " 31  class_2585.0       98728 non-null  float64\n",
            " 32  class_2705.0       98728 non-null  float64\n",
            " 33  class_2905.0       98728 non-null  float64\n",
            " 34  desc_nb2chiffres+  98728 non-null  int64  \n",
            " 35  desi_num           98728 non-null  int64  \n",
            " 36  desc_num           98728 non-null  int64  \n",
            " 37  desc_poids         98728 non-null  int64  \n",
            " 38  desc_long          98728 non-null  int64  \n",
            " 39  desc_vol           98728 non-null  int64  \n",
            " 40  desc_ans_mois      98728 non-null  int64  \n",
            " 41  desc_pieces        98728 non-null  int64  \n",
            " 42  prdtypecode_y      84916 non-null  float64\n",
            " 43  blanc              98728 non-null  float64\n",
            " 44  noir               98728 non-null  float64\n",
            " 45  R                  98728 non-null  float64\n",
            " 46  G                  98728 non-null  float64\n",
            " 47  B                  98728 non-null  float64\n",
            "dtypes: float64(34), int64(11), object(3)\n",
            "memory usage: 36.9+ MB\n"
          ],
          "name": "stdout"
        }
      ]
    },
    {
      "cell_type": "code",
      "metadata": {
        "id": "1GLY-uxAycRj"
      },
      "source": [
        "\n",
        "#Drop useless columns\n",
        "df = df.drop([\"prdtypecode_y\",\"productid\", \"designation\",\"description\", \"best_idf\"], axis=1)"
      ],
      "execution_count": 4,
      "outputs": []
    },
    {
      "cell_type": "code",
      "metadata": {
        "colab": {
          "base_uri": "https://localhost:8080/",
          "height": 224
        },
        "id": "BtxLx8bECiLm",
        "outputId": "95dcbc6a-e40b-4792-b306-0e4919e8c8a8"
      },
      "source": [
        "\n",
        "df = df.replace({'prdtypecode_x': {10: 1, 2280:2,   50:3, 1280:4, 2705:5, 2522:6, 2582:7, 1560:8, 1281:9, 1920:10, 2403:11,\n",
        "       1140:12, 2583:13, 1180:14, 1300:15, 2462:16, 1160:17, 2060:18,   40:19,   60:20, 1320:21, 1302:22,\n",
        "       2220:23, 2905:24, 2585:25, 1940:26, 1301:0}})\n",
        "df.head()"
      ],
      "execution_count": 5,
      "outputs": [
        {
          "output_type": "execute_result",
          "data": {
            "text/html": [
              "<div>\n",
              "<style scoped>\n",
              "    .dataframe tbody tr th:only-of-type {\n",
              "        vertical-align: middle;\n",
              "    }\n",
              "\n",
              "    .dataframe tbody tr th {\n",
              "        vertical-align: top;\n",
              "    }\n",
              "\n",
              "    .dataframe thead th {\n",
              "        text-align: right;\n",
              "    }\n",
              "</style>\n",
              "<table border=\"1\" class=\"dataframe\">\n",
              "  <thead>\n",
              "    <tr style=\"text-align: right;\">\n",
              "      <th></th>\n",
              "      <th>prdtypecode_x</th>\n",
              "      <th>desi_nb_phrases</th>\n",
              "      <th>desc_nb_phrases</th>\n",
              "      <th>class_10.0</th>\n",
              "      <th>class_40.0</th>\n",
              "      <th>class_50.0</th>\n",
              "      <th>class_60.0</th>\n",
              "      <th>class_1140.0</th>\n",
              "      <th>class_1160.0</th>\n",
              "      <th>class_1180.0</th>\n",
              "      <th>class_1280.0</th>\n",
              "      <th>class_1281.0</th>\n",
              "      <th>class_1300.0</th>\n",
              "      <th>class_1301.0</th>\n",
              "      <th>class_1302.0</th>\n",
              "      <th>class_1320.0</th>\n",
              "      <th>class_1560.0</th>\n",
              "      <th>class_1920.0</th>\n",
              "      <th>class_1940.0</th>\n",
              "      <th>class_2060.0</th>\n",
              "      <th>class_2220.0</th>\n",
              "      <th>class_2280.0</th>\n",
              "      <th>class_2403.0</th>\n",
              "      <th>class_2462.0</th>\n",
              "      <th>class_2522.0</th>\n",
              "      <th>class_2582.0</th>\n",
              "      <th>class_2583.0</th>\n",
              "      <th>class_2585.0</th>\n",
              "      <th>class_2705.0</th>\n",
              "      <th>class_2905.0</th>\n",
              "      <th>desc_nb2chiffres+</th>\n",
              "      <th>desi_num</th>\n",
              "      <th>desc_num</th>\n",
              "      <th>desc_poids</th>\n",
              "      <th>desc_long</th>\n",
              "      <th>desc_vol</th>\n",
              "      <th>desc_ans_mois</th>\n",
              "      <th>desc_pieces</th>\n",
              "      <th>blanc</th>\n",
              "      <th>noir</th>\n",
              "      <th>R</th>\n",
              "      <th>G</th>\n",
              "      <th>B</th>\n",
              "    </tr>\n",
              "  </thead>\n",
              "  <tbody>\n",
              "    <tr>\n",
              "      <th>0</th>\n",
              "      <td>1.0</td>\n",
              "      <td>1</td>\n",
              "      <td>0</td>\n",
              "      <td>0.000</td>\n",
              "      <td>0.0</td>\n",
              "      <td>0.00</td>\n",
              "      <td>0.0</td>\n",
              "      <td>0.0</td>\n",
              "      <td>0.000</td>\n",
              "      <td>0.0</td>\n",
              "      <td>0.000</td>\n",
              "      <td>0.000</td>\n",
              "      <td>0.000</td>\n",
              "      <td>0.0</td>\n",
              "      <td>0.0</td>\n",
              "      <td>0.157</td>\n",
              "      <td>0.115</td>\n",
              "      <td>0.0</td>\n",
              "      <td>0.00</td>\n",
              "      <td>0.0</td>\n",
              "      <td>0.0</td>\n",
              "      <td>0.000</td>\n",
              "      <td>0.000</td>\n",
              "      <td>0.000</td>\n",
              "      <td>0.190</td>\n",
              "      <td>0.0</td>\n",
              "      <td>0.0</td>\n",
              "      <td>0.115</td>\n",
              "      <td>0.000</td>\n",
              "      <td>0.021</td>\n",
              "      <td>0</td>\n",
              "      <td>0</td>\n",
              "      <td>0</td>\n",
              "      <td>0</td>\n",
              "      <td>0</td>\n",
              "      <td>0</td>\n",
              "      <td>0</td>\n",
              "      <td>0</td>\n",
              "      <td>0.896177</td>\n",
              "      <td>0.000007</td>\n",
              "      <td>251.471600</td>\n",
              "      <td>246.764924</td>\n",
              "      <td>246.580288</td>\n",
              "    </tr>\n",
              "    <tr>\n",
              "      <th>1</th>\n",
              "      <td>2.0</td>\n",
              "      <td>1</td>\n",
              "      <td>0</td>\n",
              "      <td>0.518</td>\n",
              "      <td>0.0</td>\n",
              "      <td>0.00</td>\n",
              "      <td>0.0</td>\n",
              "      <td>0.0</td>\n",
              "      <td>0.265</td>\n",
              "      <td>0.0</td>\n",
              "      <td>0.176</td>\n",
              "      <td>0.000</td>\n",
              "      <td>0.338</td>\n",
              "      <td>0.0</td>\n",
              "      <td>0.0</td>\n",
              "      <td>0.000</td>\n",
              "      <td>0.000</td>\n",
              "      <td>0.0</td>\n",
              "      <td>0.00</td>\n",
              "      <td>0.0</td>\n",
              "      <td>0.0</td>\n",
              "      <td>1.301</td>\n",
              "      <td>0.235</td>\n",
              "      <td>0.000</td>\n",
              "      <td>0.272</td>\n",
              "      <td>0.0</td>\n",
              "      <td>0.0</td>\n",
              "      <td>0.000</td>\n",
              "      <td>0.000</td>\n",
              "      <td>0.000</td>\n",
              "      <td>0</td>\n",
              "      <td>1</td>\n",
              "      <td>0</td>\n",
              "      <td>0</td>\n",
              "      <td>0</td>\n",
              "      <td>0</td>\n",
              "      <td>0</td>\n",
              "      <td>0</td>\n",
              "      <td>0.804087</td>\n",
              "      <td>0.000235</td>\n",
              "      <td>233.710580</td>\n",
              "      <td>232.696360</td>\n",
              "      <td>231.392644</td>\n",
              "    </tr>\n",
              "    <tr>\n",
              "      <th>2</th>\n",
              "      <td>3.0</td>\n",
              "      <td>1</td>\n",
              "      <td>1</td>\n",
              "      <td>0.000</td>\n",
              "      <td>0.1</td>\n",
              "      <td>0.48</td>\n",
              "      <td>0.0</td>\n",
              "      <td>0.0</td>\n",
              "      <td>0.000</td>\n",
              "      <td>0.0</td>\n",
              "      <td>0.000</td>\n",
              "      <td>0.275</td>\n",
              "      <td>0.000</td>\n",
              "      <td>0.0</td>\n",
              "      <td>0.0</td>\n",
              "      <td>0.144</td>\n",
              "      <td>0.000</td>\n",
              "      <td>0.0</td>\n",
              "      <td>0.26</td>\n",
              "      <td>0.0</td>\n",
              "      <td>0.0</td>\n",
              "      <td>0.000</td>\n",
              "      <td>0.625</td>\n",
              "      <td>0.657</td>\n",
              "      <td>0.297</td>\n",
              "      <td>0.0</td>\n",
              "      <td>0.0</td>\n",
              "      <td>0.000</td>\n",
              "      <td>0.000</td>\n",
              "      <td>0.020</td>\n",
              "      <td>1</td>\n",
              "      <td>0</td>\n",
              "      <td>0</td>\n",
              "      <td>0</td>\n",
              "      <td>0</td>\n",
              "      <td>0</td>\n",
              "      <td>0</td>\n",
              "      <td>0</td>\n",
              "      <td>0.925060</td>\n",
              "      <td>0.000000</td>\n",
              "      <td>249.340400</td>\n",
              "      <td>251.500820</td>\n",
              "      <td>253.409132</td>\n",
              "    </tr>\n",
              "    <tr>\n",
              "      <th>3</th>\n",
              "      <td>4.0</td>\n",
              "      <td>1</td>\n",
              "      <td>0</td>\n",
              "      <td>0.000</td>\n",
              "      <td>0.0</td>\n",
              "      <td>0.00</td>\n",
              "      <td>0.0</td>\n",
              "      <td>0.0</td>\n",
              "      <td>0.000</td>\n",
              "      <td>0.0</td>\n",
              "      <td>0.222</td>\n",
              "      <td>0.000</td>\n",
              "      <td>0.000</td>\n",
              "      <td>0.0</td>\n",
              "      <td>0.0</td>\n",
              "      <td>0.000</td>\n",
              "      <td>0.000</td>\n",
              "      <td>0.0</td>\n",
              "      <td>0.00</td>\n",
              "      <td>0.0</td>\n",
              "      <td>0.0</td>\n",
              "      <td>0.000</td>\n",
              "      <td>0.000</td>\n",
              "      <td>0.000</td>\n",
              "      <td>0.000</td>\n",
              "      <td>0.0</td>\n",
              "      <td>0.0</td>\n",
              "      <td>0.000</td>\n",
              "      <td>0.000</td>\n",
              "      <td>0.000</td>\n",
              "      <td>0</td>\n",
              "      <td>0</td>\n",
              "      <td>0</td>\n",
              "      <td>0</td>\n",
              "      <td>0</td>\n",
              "      <td>0</td>\n",
              "      <td>0</td>\n",
              "      <td>0</td>\n",
              "      <td>0.476548</td>\n",
              "      <td>0.000221</td>\n",
              "      <td>169.924608</td>\n",
              "      <td>152.227476</td>\n",
              "      <td>149.065240</td>\n",
              "    </tr>\n",
              "    <tr>\n",
              "      <th>4</th>\n",
              "      <td>5.0</td>\n",
              "      <td>1</td>\n",
              "      <td>1</td>\n",
              "      <td>0.000</td>\n",
              "      <td>0.0</td>\n",
              "      <td>0.00</td>\n",
              "      <td>0.0</td>\n",
              "      <td>0.0</td>\n",
              "      <td>0.000</td>\n",
              "      <td>0.0</td>\n",
              "      <td>0.000</td>\n",
              "      <td>0.000</td>\n",
              "      <td>0.000</td>\n",
              "      <td>0.0</td>\n",
              "      <td>0.0</td>\n",
              "      <td>0.000</td>\n",
              "      <td>0.000</td>\n",
              "      <td>0.0</td>\n",
              "      <td>0.00</td>\n",
              "      <td>0.0</td>\n",
              "      <td>0.0</td>\n",
              "      <td>0.000</td>\n",
              "      <td>0.000</td>\n",
              "      <td>0.000</td>\n",
              "      <td>0.000</td>\n",
              "      <td>0.0</td>\n",
              "      <td>0.0</td>\n",
              "      <td>0.000</td>\n",
              "      <td>0.111</td>\n",
              "      <td>0.000</td>\n",
              "      <td>0</td>\n",
              "      <td>0</td>\n",
              "      <td>0</td>\n",
              "      <td>0</td>\n",
              "      <td>0</td>\n",
              "      <td>0</td>\n",
              "      <td>0</td>\n",
              "      <td>0</td>\n",
              "      <td>0.781337</td>\n",
              "      <td>0.003199</td>\n",
              "      <td>225.403116</td>\n",
              "      <td>234.072128</td>\n",
              "      <td>238.177512</td>\n",
              "    </tr>\n",
              "  </tbody>\n",
              "</table>\n",
              "</div>"
            ],
            "text/plain": [
              "   prdtypecode_x  desi_nb_phrases  ...           G           B\n",
              "0            1.0                1  ...  246.764924  246.580288\n",
              "1            2.0                1  ...  232.696360  231.392644\n",
              "2            3.0                1  ...  251.500820  253.409132\n",
              "3            4.0                1  ...  152.227476  149.065240\n",
              "4            5.0                1  ...  234.072128  238.177512\n",
              "\n",
              "[5 rows x 43 columns]"
            ]
          },
          "metadata": {
            "tags": []
          },
          "execution_count": 5
        }
      ]
    },
    {
      "cell_type": "code",
      "metadata": {
        "colab": {
          "base_uri": "https://localhost:8080/"
        },
        "id": "XhwZpr-e0lGI",
        "outputId": "fa42dc91-efe1-4a15-8e24-75f336873853"
      },
      "source": [
        "import numpy as np\n",
        "\n",
        "if (Ignore_X_test_challenge):\n",
        "  df =df.dropna(subset=['prdtypecode_x'])\n",
        "  y = df['prdtypecode_x'].values\n",
        "  df =df.drop('prdtypecode_x', axis=1)\n",
        "  X_train, X_test, y_train, y_test = train_test_split(\n",
        "        df, y, test_size=0.2, random_state=123)\n",
        "else:\n",
        "  X_train = df.dropna(subset=[\"prdtypecode_x\"], axis=0)\n",
        "  y_train = X_train['prdtypecode_x'].values\n",
        "  X_train =X_train.drop('prdtypecode_x', axis=1)\n",
        "  X_test = df[np.isnan(df[\"prdtypecode_x\"])]\n",
        "  X_test =X_test.drop('prdtypecode_x', axis=1)\n",
        "  y_test = None\n",
        "  \n",
        "  \n",
        "print(\"X train:\", len(X_train))\n",
        "print(\"Y train:\", len(X_train))\n",
        "print(\"X test:\", len(X_test))\n"
      ],
      "execution_count": 6,
      "outputs": [
        {
          "output_type": "stream",
          "text": [
            "X train: 67932\n",
            "Y train: 67932\n",
            "X test: 16984\n"
          ],
          "name": "stdout"
        }
      ]
    },
    {
      "cell_type": "code",
      "metadata": {
        "id": "w7SgM-Gh4OGJ"
      },
      "source": [
        "from sklearn.preprocessing import StandardScaler\n",
        "scaler = StandardScaler().fit(X_train)\n",
        "\n",
        "X_train  = scaler.transform(X_train)\n",
        "X_test = scaler.transform(X_test)"
      ],
      "execution_count": 7,
      "outputs": []
    },
    {
      "cell_type": "code",
      "metadata": {
        "id": "W98nMlkTHbia"
      },
      "source": [
        "import os\n",
        "import joblib\n",
        "from time import time\n",
        "t0 = time()\n",
        "# {}\n",
        "if (isUseJoblib):\n",
        "  clf1 = joblib.load(f'{FilePath}/randomforest98000.joblib')\n",
        "else:\n",
        "  clf1 = RandomForestClassifier(max_features ='sqrt', n_jobs = -1,n_estimators = 500)\n",
        "  clf1.fit(X_train, y_train)\n",
        "\n",
        "y_pred = clf1.predict(X_test)\n",
        "\n",
        "print('Processing time: {} mins'.format(round((time() - t0) / 60, 2)))\n",
        "\n",
        "if (Ignore_X_test_challenge):\n",
        "  dfcross=pd.crosstab(y_test.ravel(), y_pred, rownames=['Realité'], colnames=['Prédiction'], normalize=1)\n",
        "  classif = classification_report(y_test, y_pred)\n",
        "  print(classif)"
      ],
      "execution_count": null,
      "outputs": []
    },
    {
      "cell_type": "code",
      "metadata": {
        "colab": {
          "base_uri": "https://localhost:8080/"
        },
        "id": "nsTwCOAQaTOU",
        "outputId": "aee0766b-0b9f-40b5-a9aa-f1349ae29357"
      },
      "source": [
        "#SAVE Model\n",
        "joblib.dump(clf1, f'{FilePath}/randomforest98000.joblib', compress=3)"
      ],
      "execution_count": 12,
      "outputs": [
        {
          "output_type": "execute_result",
          "data": {
            "text/plain": [
              "['/Drive/My Drive//randomforest98000.joblib']"
            ]
          },
          "metadata": {
            "tags": []
          },
          "execution_count": 12
        }
      ]
    },
    {
      "cell_type": "code",
      "metadata": {
        "id": "yNJMA3UwcmZt"
      },
      "source": [
        ""
      ],
      "execution_count": null,
      "outputs": []
    },
    {
      "cell_type": "code",
      "metadata": {
        "id": "7kKlBcyOB6dl"
      },
      "source": [
        "import pickle as cPickle\n",
        "with open(f'{FilePath}/randomforest98000.pickle', 'wb') as f:\n",
        "    cPickle.dump(clf1, f)\n",
        "    f.close()\n",
        "#with open(f'{FilePath}/randomforest98000.pickle', 'rb') as f:\n",
        "#    forest2 = cPickle.load(f)"
      ],
      "execution_count": null,
      "outputs": []
    },
    {
      "cell_type": "code",
      "metadata": {
        "id": "-dRSTr-66AR3"
      },
      "source": [
        "from sklearn.model_selection import GridSearchCV, train_test_split, cross_val_score\n",
        "\n",
        "params_clf1 = {'n_estimators': [ 250, 500, 1000],\n",
        "                'min_samples_leaf': [1, 3, 5],\n",
        "                'max_features': ['sqrt', 'log2']}\n",
        "\n",
        "gridcv = GridSearchCV(clf1, param_grid=  params_clf1, scoring= 'accuracy', cv = 3)"
      ],
      "execution_count": null,
      "outputs": []
    },
    {
      "cell_type": "code",
      "metadata": {
        "colab": {
          "base_uri": "https://localhost:8080/"
        },
        "id": "dkqzEEtf6XvL",
        "outputId": "e7d63e81-3a85-45ec-e350-8933e4fc0d78"
      },
      "source": [
        "\n",
        "t0 = time()\n",
        "\n",
        "gridcv.fit(X_train, y_train)\n",
        "\n",
        "\n",
        "pd.DataFrame(gridcv.cv_results_)[['params', 'mean_test_score' , 'std_test_score']]\n",
        "\n",
        "print('Processing time: {} mins'.format(round((time() - t0) / 60, 2)))"
      ],
      "execution_count": null,
      "outputs": [
        {
          "output_type": "stream",
          "text": [
            "Processing time: 96.49 mins\n"
          ],
          "name": "stdout"
        }
      ]
    },
    {
      "cell_type": "code",
      "metadata": {
        "id": "KcBjEpGqJz6C"
      },
      "source": [
        "ypred_proba = clf1.predict_proba(X_test)"
      ],
      "execution_count": null,
      "outputs": []
    },
    {
      "cell_type": "code",
      "metadata": {
        "id": "E273U9U4DFFe"
      },
      "source": [
        "\n",
        "\n",
        "\n"
      ],
      "execution_count": null,
      "outputs": []
    }
  ]
}