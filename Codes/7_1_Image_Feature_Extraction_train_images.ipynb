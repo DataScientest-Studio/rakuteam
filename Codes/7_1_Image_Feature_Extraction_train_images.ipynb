{
 "cells": [
  {
   "cell_type": "code",
   "execution_count": 1,
   "metadata": {},
   "outputs": [],
   "source": [
    "import pandas as pd\n",
    "import numpy as np\n",
    "import cv2\n",
    "import matplotlib.pyplot as plt\n",
    "%matplotlib inline\n",
    "import seaborn as sns\n",
    "\n",
    "from os import listdir\n",
    "from os.path import isfile, join\n",
    "\n",
    "import PIL\n",
    "from PIL import Image"
   ]
  },
  {
   "cell_type": "code",
   "execution_count": 2,
   "metadata": {},
   "outputs": [],
   "source": [
    "#import les datasets\n",
    "X_train = pd.read_csv(\"/Users/ayseaylinkaya/Desktop/Datascientist/2 Project Rakuten/X_train_update.csv\") \n",
    "X_test = pd.read_csv(\"/Users/ayseaylinkaya/Desktop/Datascientist/2 Project Rakuten/X_test_update.csv\") \n",
    "y_train = pd.read_csv(\"/Users/ayseaylinkaya/Desktop/Datascientist/2 Project Rakuten/Y_train_CVw08PX.csv\")\n",
    "df_image= pd.read_csv(\"/Users/ayseaylinkaya/Desktop/Datascientist/2 Project Rakuten/features_images.csv\")"
   ]
  },
  {
   "cell_type": "code",
   "execution_count": 3,
   "metadata": {},
   "outputs": [
    {
     "data": {
      "text/html": [
       "<div>\n",
       "<style scoped>\n",
       "    .dataframe tbody tr th:only-of-type {\n",
       "        vertical-align: middle;\n",
       "    }\n",
       "\n",
       "    .dataframe tbody tr th {\n",
       "        vertical-align: top;\n",
       "    }\n",
       "\n",
       "    .dataframe thead th {\n",
       "        text-align: right;\n",
       "    }\n",
       "</style>\n",
       "<table border=\"1\" class=\"dataframe\">\n",
       "  <thead>\n",
       "    <tr style=\"text-align: right;\">\n",
       "      <th></th>\n",
       "      <th>Unnamed: 0</th>\n",
       "      <th>prdtypecode</th>\n",
       "      <th>productid</th>\n",
       "      <th>imageid</th>\n",
       "      <th>image_name</th>\n",
       "      <th>fullpath</th>\n",
       "    </tr>\n",
       "  </thead>\n",
       "  <tbody>\n",
       "    <tr>\n",
       "      <th>0</th>\n",
       "      <td>0</td>\n",
       "      <td>10</td>\n",
       "      <td>3804725264</td>\n",
       "      <td>1263597046</td>\n",
       "      <td>image_1263597046_product_3804725264.jpg</td>\n",
       "      <td>/Users/ayseaylinkaya/Desktop/Datascientist/2 P...</td>\n",
       "    </tr>\n",
       "    <tr>\n",
       "      <th>1</th>\n",
       "      <td>1</td>\n",
       "      <td>2280</td>\n",
       "      <td>436067568</td>\n",
       "      <td>1008141237</td>\n",
       "      <td>image_1008141237_product_436067568.jpg</td>\n",
       "      <td>/Users/ayseaylinkaya/Desktop/Datascientist/2 P...</td>\n",
       "    </tr>\n",
       "    <tr>\n",
       "      <th>2</th>\n",
       "      <td>2</td>\n",
       "      <td>50</td>\n",
       "      <td>201115110</td>\n",
       "      <td>938777978</td>\n",
       "      <td>image_938777978_product_201115110.jpg</td>\n",
       "      <td>/Users/ayseaylinkaya/Desktop/Datascientist/2 P...</td>\n",
       "    </tr>\n",
       "    <tr>\n",
       "      <th>3</th>\n",
       "      <td>3</td>\n",
       "      <td>1280</td>\n",
       "      <td>50418756</td>\n",
       "      <td>457047496</td>\n",
       "      <td>image_457047496_product_50418756.jpg</td>\n",
       "      <td>/Users/ayseaylinkaya/Desktop/Datascientist/2 P...</td>\n",
       "    </tr>\n",
       "    <tr>\n",
       "      <th>4</th>\n",
       "      <td>4</td>\n",
       "      <td>2705</td>\n",
       "      <td>278535884</td>\n",
       "      <td>1077757786</td>\n",
       "      <td>image_1077757786_product_278535884.jpg</td>\n",
       "      <td>/Users/ayseaylinkaya/Desktop/Datascientist/2 P...</td>\n",
       "    </tr>\n",
       "  </tbody>\n",
       "</table>\n",
       "</div>"
      ],
      "text/plain": [
       "   Unnamed: 0  prdtypecode   productid     imageid  \\\n",
       "0           0           10  3804725264  1263597046   \n",
       "1           1         2280   436067568  1008141237   \n",
       "2           2           50   201115110   938777978   \n",
       "3           3         1280    50418756   457047496   \n",
       "4           4         2705   278535884  1077757786   \n",
       "\n",
       "                                image_name  \\\n",
       "0  image_1263597046_product_3804725264.jpg   \n",
       "1   image_1008141237_product_436067568.jpg   \n",
       "2    image_938777978_product_201115110.jpg   \n",
       "3     image_457047496_product_50418756.jpg   \n",
       "4   image_1077757786_product_278535884.jpg   \n",
       "\n",
       "                                            fullpath  \n",
       "0  /Users/ayseaylinkaya/Desktop/Datascientist/2 P...  \n",
       "1  /Users/ayseaylinkaya/Desktop/Datascientist/2 P...  \n",
       "2  /Users/ayseaylinkaya/Desktop/Datascientist/2 P...  \n",
       "3  /Users/ayseaylinkaya/Desktop/Datascientist/2 P...  \n",
       "4  /Users/ayseaylinkaya/Desktop/Datascientist/2 P...  "
      ]
     },
     "execution_count": 3,
     "metadata": {},
     "output_type": "execute_result"
    }
   ],
   "source": [
    "#merge les training sets pour analyses les articles par classe\n",
    "X_train = X_train.sort_values(by = 'Unnamed: 0', ascending = True)\n",
    "y_train = y_train.sort_values(by = 'Unnamed: 0', ascending = True)\n",
    "part2 = X_train[X_train.columns[3:]]\n",
    "df = pd.concat([y_train,part2], axis=1)\n",
    "df[\"image_name\"] = \"image_\" + df.imageid.map(str)+ \"_product_\" + df.productid.map(str) + \".jpg\"\n",
    "df[\"image_name\"] = df[\"image_name\"].astype(str)\n",
    "df['fullpath']= '/Users/ayseaylinkaya/Desktop/Datascientist/2 Project Rakuten/images/image_train/'+ df['image_name']\n",
    "df.head()"
   ]
  },
  {
   "cell_type": "code",
   "execution_count": 4,
   "metadata": {},
   "outputs": [
    {
     "data": {
      "text/plain": [
       "(80014, 11)"
      ]
     },
     "execution_count": 4,
     "metadata": {},
     "output_type": "execute_result"
    }
   ],
   "source": [
    "df_image.shape"
   ]
  },
  {
   "cell_type": "code",
   "execution_count": 7,
   "metadata": {
    "scrolled": false
   },
   "outputs": [
    {
     "name": "stderr",
     "output_type": "stream",
     "text": [
      "<ipython-input-7-6898b955ee28>:21: SettingWithCopyWarning: \n",
      "A value is trying to be set on a copy of a slice from a DataFrame.\n",
      "Try using .loc[row_indexer,col_indexer] = value instead\n",
      "\n",
      "See the caveats in the documentation: https://pandas.pydata.org/pandas-docs/stable/user_guide/indexing.html#returning-a-view-versus-a-copy\n",
      "  df_2905['blanc']=blanc\n",
      "<ipython-input-7-6898b955ee28>:22: SettingWithCopyWarning: \n",
      "A value is trying to be set on a copy of a slice from a DataFrame.\n",
      "Try using .loc[row_indexer,col_indexer] = value instead\n",
      "\n",
      "See the caveats in the documentation: https://pandas.pydata.org/pandas-docs/stable/user_guide/indexing.html#returning-a-view-versus-a-copy\n",
      "  df_2905['noir']=noir\n",
      "<ipython-input-7-6898b955ee28>:23: SettingWithCopyWarning: \n",
      "A value is trying to be set on a copy of a slice from a DataFrame.\n",
      "Try using .loc[row_indexer,col_indexer] = value instead\n",
      "\n",
      "See the caveats in the documentation: https://pandas.pydata.org/pandas-docs/stable/user_guide/indexing.html#returning-a-view-versus-a-copy\n",
      "  df_2905['R']= R\n",
      "<ipython-input-7-6898b955ee28>:24: SettingWithCopyWarning: \n",
      "A value is trying to be set on a copy of a slice from a DataFrame.\n",
      "Try using .loc[row_indexer,col_indexer] = value instead\n",
      "\n",
      "See the caveats in the documentation: https://pandas.pydata.org/pandas-docs/stable/user_guide/indexing.html#returning-a-view-versus-a-copy\n",
      "  df_2905['G']= G\n",
      "<ipython-input-7-6898b955ee28>:25: SettingWithCopyWarning: \n",
      "A value is trying to be set on a copy of a slice from a DataFrame.\n",
      "Try using .loc[row_indexer,col_indexer] = value instead\n",
      "\n",
      "See the caveats in the documentation: https://pandas.pydata.org/pandas-docs/stable/user_guide/indexing.html#returning-a-view-versus-a-copy\n",
      "  df_2905['B']= B\n"
     ]
    },
    {
     "data": {
      "text/plain": [
       "(80886, 11)"
      ]
     },
     "execution_count": 7,
     "metadata": {},
     "output_type": "execute_result"
    }
   ],
   "source": [
    "df_2905 = df[df['prdtypecode']==2905]\n",
    "\n",
    "images_2905 = np.array([np.array(Image.open(fname)) for fname in df_2905['fullpath']])\n",
    "\n",
    "blanc = []\n",
    "noir = []\n",
    "R = []\n",
    "G = []\n",
    "B = []\n",
    "\n",
    "for image in images_2905:\n",
    "    n_white_pix = np.sum(image == [255, 255, 255])/750000\n",
    "    n_black_pix = np.sum(image == [0,0,0])/750000\n",
    "    image_mean = np.mean(image, axis=(0, 1))\n",
    "    blanc.append(n_white_pix)\n",
    "    noir.append(n_black_pix)\n",
    "    R.append(image_mean[0])\n",
    "    G.append(image_mean[1])\n",
    "    B.append(image_mean[2])\n",
    "\n",
    "df_2905['blanc']=blanc\n",
    "df_2905['noir']=noir\n",
    "df_2905['R']= R\n",
    "df_2905['G']= G\n",
    "df_2905['B']= B\n",
    "\n",
    "\n",
    "df_image = pd.concat([df_image, df_2905])\n",
    "df_image.to_csv(index=False)\n",
    "df_image.shape"
   ]
  },
  {
   "cell_type": "code",
   "execution_count": 8,
   "metadata": {},
   "outputs": [
    {
     "name": "stderr",
     "output_type": "stream",
     "text": [
      "<ipython-input-8-74ca7b63038f>:21: SettingWithCopyWarning: \n",
      "A value is trying to be set on a copy of a slice from a DataFrame.\n",
      "Try using .loc[row_indexer,col_indexer] = value instead\n",
      "\n",
      "See the caveats in the documentation: https://pandas.pydata.org/pandas-docs/stable/user_guide/indexing.html#returning-a-view-versus-a-copy\n",
      "  df_60['blanc']=blanc\n",
      "<ipython-input-8-74ca7b63038f>:22: SettingWithCopyWarning: \n",
      "A value is trying to be set on a copy of a slice from a DataFrame.\n",
      "Try using .loc[row_indexer,col_indexer] = value instead\n",
      "\n",
      "See the caveats in the documentation: https://pandas.pydata.org/pandas-docs/stable/user_guide/indexing.html#returning-a-view-versus-a-copy\n",
      "  df_60['noir']=noir\n",
      "<ipython-input-8-74ca7b63038f>:23: SettingWithCopyWarning: \n",
      "A value is trying to be set on a copy of a slice from a DataFrame.\n",
      "Try using .loc[row_indexer,col_indexer] = value instead\n",
      "\n",
      "See the caveats in the documentation: https://pandas.pydata.org/pandas-docs/stable/user_guide/indexing.html#returning-a-view-versus-a-copy\n",
      "  df_60['R']= R\n",
      "<ipython-input-8-74ca7b63038f>:24: SettingWithCopyWarning: \n",
      "A value is trying to be set on a copy of a slice from a DataFrame.\n",
      "Try using .loc[row_indexer,col_indexer] = value instead\n",
      "\n",
      "See the caveats in the documentation: https://pandas.pydata.org/pandas-docs/stable/user_guide/indexing.html#returning-a-view-versus-a-copy\n",
      "  df_60['G']= G\n",
      "<ipython-input-8-74ca7b63038f>:25: SettingWithCopyWarning: \n",
      "A value is trying to be set on a copy of a slice from a DataFrame.\n",
      "Try using .loc[row_indexer,col_indexer] = value instead\n",
      "\n",
      "See the caveats in the documentation: https://pandas.pydata.org/pandas-docs/stable/user_guide/indexing.html#returning-a-view-versus-a-copy\n",
      "  df_60['B']= B\n"
     ]
    },
    {
     "data": {
      "text/plain": [
       "(81718, 11)"
      ]
     },
     "execution_count": 8,
     "metadata": {},
     "output_type": "execute_result"
    }
   ],
   "source": [
    "df_60 = df[df['prdtypecode']==60]\n",
    "\n",
    "images_60 = np.array([np.array(Image.open(fname)) for fname in df_60['fullpath']])\n",
    "\n",
    "blanc = []\n",
    "noir = []\n",
    "R = []\n",
    "G = []\n",
    "B = []\n",
    "\n",
    "for image in images_60:\n",
    "    n_white_pix = np.sum(image == [255, 255, 255])/750000\n",
    "    n_black_pix = np.sum(image == [0,0,0])/750000\n",
    "    image_mean = np.mean(image, axis=(0, 1))\n",
    "    blanc.append(n_white_pix)\n",
    "    noir.append(n_black_pix)\n",
    "    R.append(image_mean[0])\n",
    "    G.append(image_mean[1])\n",
    "    B.append(image_mean[2])\n",
    "\n",
    "df_60['blanc']=blanc\n",
    "df_60['noir']=noir\n",
    "df_60['R']= R\n",
    "df_60['G']= G\n",
    "df_60['B']= B\n",
    "\n",
    "\n",
    "df_image = pd.concat([df_image, df_60])\n",
    "df_image.to_csv(index=False)\n",
    "df_image.shape"
   ]
  },
  {
   "cell_type": "code",
   "execution_count": 9,
   "metadata": {},
   "outputs": [
    {
     "name": "stderr",
     "output_type": "stream",
     "text": [
      "<ipython-input-9-05c2aedd7036>:21: SettingWithCopyWarning: \n",
      "A value is trying to be set on a copy of a slice from a DataFrame.\n",
      "Try using .loc[row_indexer,col_indexer] = value instead\n",
      "\n",
      "See the caveats in the documentation: https://pandas.pydata.org/pandas-docs/stable/user_guide/indexing.html#returning-a-view-versus-a-copy\n",
      "  df_2220['blanc']=blanc\n",
      "<ipython-input-9-05c2aedd7036>:22: SettingWithCopyWarning: \n",
      "A value is trying to be set on a copy of a slice from a DataFrame.\n",
      "Try using .loc[row_indexer,col_indexer] = value instead\n",
      "\n",
      "See the caveats in the documentation: https://pandas.pydata.org/pandas-docs/stable/user_guide/indexing.html#returning-a-view-versus-a-copy\n",
      "  df_2220['noir']=noir\n",
      "<ipython-input-9-05c2aedd7036>:23: SettingWithCopyWarning: \n",
      "A value is trying to be set on a copy of a slice from a DataFrame.\n",
      "Try using .loc[row_indexer,col_indexer] = value instead\n",
      "\n",
      "See the caveats in the documentation: https://pandas.pydata.org/pandas-docs/stable/user_guide/indexing.html#returning-a-view-versus-a-copy\n",
      "  df_2220['R']= R\n",
      "<ipython-input-9-05c2aedd7036>:24: SettingWithCopyWarning: \n",
      "A value is trying to be set on a copy of a slice from a DataFrame.\n",
      "Try using .loc[row_indexer,col_indexer] = value instead\n",
      "\n",
      "See the caveats in the documentation: https://pandas.pydata.org/pandas-docs/stable/user_guide/indexing.html#returning-a-view-versus-a-copy\n",
      "  df_2220['G']= G\n",
      "<ipython-input-9-05c2aedd7036>:25: SettingWithCopyWarning: \n",
      "A value is trying to be set on a copy of a slice from a DataFrame.\n",
      "Try using .loc[row_indexer,col_indexer] = value instead\n",
      "\n",
      "See the caveats in the documentation: https://pandas.pydata.org/pandas-docs/stable/user_guide/indexing.html#returning-a-view-versus-a-copy\n",
      "  df_2220['B']= B\n"
     ]
    },
    {
     "data": {
      "text/plain": [
       "(82542, 11)"
      ]
     },
     "execution_count": 9,
     "metadata": {},
     "output_type": "execute_result"
    }
   ],
   "source": [
    "df_2220 = df[df['prdtypecode']==2220]\n",
    "\n",
    "images_2220 = np.array([np.array(Image.open(fname)) for fname in df_2220['fullpath']])\n",
    "\n",
    "blanc = []\n",
    "noir = []\n",
    "R = []\n",
    "G = []\n",
    "B = []\n",
    "\n",
    "for image in images_2220:\n",
    "    n_white_pix = np.sum(image == [255, 255, 255])/750000\n",
    "    n_black_pix = np.sum(image == [0,0,0])/750000\n",
    "    image_mean = np.mean(image, axis=(0, 1))\n",
    "    blanc.append(n_white_pix)\n",
    "    noir.append(n_black_pix)\n",
    "    R.append(image_mean[0])\n",
    "    G.append(image_mean[1])\n",
    "    B.append(image_mean[2])\n",
    "\n",
    "df_2220['blanc']=blanc\n",
    "df_2220['noir']=noir\n",
    "df_2220['R']= R\n",
    "df_2220['G']= G\n",
    "df_2220['B']= B\n",
    "\n",
    "\n",
    "df_image = pd.concat([df_image, df_2220])\n",
    "df_image.to_csv(index=False)\n",
    "df_image.shape"
   ]
  },
  {
   "cell_type": "code",
   "execution_count": 10,
   "metadata": {},
   "outputs": [
    {
     "name": "stderr",
     "output_type": "stream",
     "text": [
      "<ipython-input-10-f5f8a0101947>:21: SettingWithCopyWarning: \n",
      "A value is trying to be set on a copy of a slice from a DataFrame.\n",
      "Try using .loc[row_indexer,col_indexer] = value instead\n",
      "\n",
      "See the caveats in the documentation: https://pandas.pydata.org/pandas-docs/stable/user_guide/indexing.html#returning-a-view-versus-a-copy\n",
      "  df_1301['blanc']=blanc\n",
      "<ipython-input-10-f5f8a0101947>:22: SettingWithCopyWarning: \n",
      "A value is trying to be set on a copy of a slice from a DataFrame.\n",
      "Try using .loc[row_indexer,col_indexer] = value instead\n",
      "\n",
      "See the caveats in the documentation: https://pandas.pydata.org/pandas-docs/stable/user_guide/indexing.html#returning-a-view-versus-a-copy\n",
      "  df_1301['noir']=noir\n",
      "<ipython-input-10-f5f8a0101947>:23: SettingWithCopyWarning: \n",
      "A value is trying to be set on a copy of a slice from a DataFrame.\n",
      "Try using .loc[row_indexer,col_indexer] = value instead\n",
      "\n",
      "See the caveats in the documentation: https://pandas.pydata.org/pandas-docs/stable/user_guide/indexing.html#returning-a-view-versus-a-copy\n",
      "  df_1301['R']= R\n",
      "<ipython-input-10-f5f8a0101947>:24: SettingWithCopyWarning: \n",
      "A value is trying to be set on a copy of a slice from a DataFrame.\n",
      "Try using .loc[row_indexer,col_indexer] = value instead\n",
      "\n",
      "See the caveats in the documentation: https://pandas.pydata.org/pandas-docs/stable/user_guide/indexing.html#returning-a-view-versus-a-copy\n",
      "  df_1301['G']= G\n",
      "<ipython-input-10-f5f8a0101947>:25: SettingWithCopyWarning: \n",
      "A value is trying to be set on a copy of a slice from a DataFrame.\n",
      "Try using .loc[row_indexer,col_indexer] = value instead\n",
      "\n",
      "See the caveats in the documentation: https://pandas.pydata.org/pandas-docs/stable/user_guide/indexing.html#returning-a-view-versus-a-copy\n",
      "  df_1301['B']= B\n"
     ]
    },
    {
     "data": {
      "text/plain": [
       "(83349, 11)"
      ]
     },
     "execution_count": 10,
     "metadata": {},
     "output_type": "execute_result"
    }
   ],
   "source": [
    "df_1301 = df[df['prdtypecode']==1301]\n",
    "\n",
    "images_1301 = np.array([np.array(Image.open(fname)) for fname in df_1301['fullpath']])\n",
    "\n",
    "blanc = []\n",
    "noir = []\n",
    "R = []\n",
    "G = []\n",
    "B = []\n",
    "\n",
    "for image in images_1301:\n",
    "    n_white_pix = np.sum(image == [255, 255, 255])/750000\n",
    "    n_black_pix = np.sum(image == [0,0,0])/750000\n",
    "    image_mean = np.mean(image, axis=(0, 1))\n",
    "    blanc.append(n_white_pix)\n",
    "    noir.append(n_black_pix)\n",
    "    R.append(image_mean[0])\n",
    "    G.append(image_mean[1])\n",
    "    B.append(image_mean[2])\n",
    "\n",
    "df_1301['blanc']=blanc\n",
    "df_1301['noir']=noir\n",
    "df_1301['R']= R\n",
    "df_1301['G']= G\n",
    "df_1301['B']= B\n",
    "\n",
    "\n",
    "df_image = pd.concat([df_image, df_1301])\n",
    "df_image.to_csv(index=False)\n",
    "df_image.shape"
   ]
  },
  {
   "cell_type": "code",
   "execution_count": 11,
   "metadata": {},
   "outputs": [
    {
     "name": "stderr",
     "output_type": "stream",
     "text": [
      "<ipython-input-11-8def9edb200c>:21: SettingWithCopyWarning: \n",
      "A value is trying to be set on a copy of a slice from a DataFrame.\n",
      "Try using .loc[row_indexer,col_indexer] = value instead\n",
      "\n",
      "See the caveats in the documentation: https://pandas.pydata.org/pandas-docs/stable/user_guide/indexing.html#returning-a-view-versus-a-copy\n",
      "  df_1180['blanc']=blanc\n",
      "<ipython-input-11-8def9edb200c>:22: SettingWithCopyWarning: \n",
      "A value is trying to be set on a copy of a slice from a DataFrame.\n",
      "Try using .loc[row_indexer,col_indexer] = value instead\n",
      "\n",
      "See the caveats in the documentation: https://pandas.pydata.org/pandas-docs/stable/user_guide/indexing.html#returning-a-view-versus-a-copy\n",
      "  df_1180['noir']=noir\n",
      "<ipython-input-11-8def9edb200c>:23: SettingWithCopyWarning: \n",
      "A value is trying to be set on a copy of a slice from a DataFrame.\n",
      "Try using .loc[row_indexer,col_indexer] = value instead\n",
      "\n",
      "See the caveats in the documentation: https://pandas.pydata.org/pandas-docs/stable/user_guide/indexing.html#returning-a-view-versus-a-copy\n",
      "  df_1180['R']= R\n",
      "<ipython-input-11-8def9edb200c>:24: SettingWithCopyWarning: \n",
      "A value is trying to be set on a copy of a slice from a DataFrame.\n",
      "Try using .loc[row_indexer,col_indexer] = value instead\n",
      "\n",
      "See the caveats in the documentation: https://pandas.pydata.org/pandas-docs/stable/user_guide/indexing.html#returning-a-view-versus-a-copy\n",
      "  df_1180['G']= G\n",
      "<ipython-input-11-8def9edb200c>:25: SettingWithCopyWarning: \n",
      "A value is trying to be set on a copy of a slice from a DataFrame.\n",
      "Try using .loc[row_indexer,col_indexer] = value instead\n",
      "\n",
      "See the caveats in the documentation: https://pandas.pydata.org/pandas-docs/stable/user_guide/indexing.html#returning-a-view-versus-a-copy\n",
      "  df_1180['B']= B\n"
     ]
    },
    {
     "data": {
      "text/plain": [
       "(84113, 11)"
      ]
     },
     "execution_count": 11,
     "metadata": {},
     "output_type": "execute_result"
    }
   ],
   "source": [
    "df_1180 = df[df['prdtypecode']==1180]\n",
    "\n",
    "images_1180 = np.array([np.array(Image.open(fname)) for fname in df_1180['fullpath']])\n",
    "\n",
    "blanc = []\n",
    "noir = []\n",
    "R = []\n",
    "G = []\n",
    "B = []\n",
    "\n",
    "for image in images_1180:\n",
    "    n_white_pix = np.sum(image == [255, 255, 255])/750000\n",
    "    n_black_pix = np.sum(image == [0,0,0])/750000\n",
    "    image_mean = np.mean(image, axis=(0, 1))\n",
    "    blanc.append(n_white_pix)\n",
    "    noir.append(n_black_pix)\n",
    "    R.append(image_mean[0])\n",
    "    G.append(image_mean[1])\n",
    "    B.append(image_mean[2])\n",
    "\n",
    "df_1180['blanc']=blanc\n",
    "df_1180['noir']=noir\n",
    "df_1180['R']= R\n",
    "df_1180['G']= G\n",
    "df_1180['B']= B\n",
    "\n",
    "\n",
    "df_image = pd.concat([df_image, df_1180])\n",
    "df_image.to_csv(index=False)\n",
    "df_image.shape"
   ]
  },
  {
   "cell_type": "code",
   "execution_count": 12,
   "metadata": {},
   "outputs": [
    {
     "name": "stderr",
     "output_type": "stream",
     "text": [
      "<ipython-input-12-1668ba26c42a>:21: SettingWithCopyWarning: \n",
      "A value is trying to be set on a copy of a slice from a DataFrame.\n",
      "Try using .loc[row_indexer,col_indexer] = value instead\n",
      "\n",
      "See the caveats in the documentation: https://pandas.pydata.org/pandas-docs/stable/user_guide/indexing.html#returning-a-view-versus-a-copy\n",
      "  df_1940['blanc']=blanc\n",
      "<ipython-input-12-1668ba26c42a>:22: SettingWithCopyWarning: \n",
      "A value is trying to be set on a copy of a slice from a DataFrame.\n",
      "Try using .loc[row_indexer,col_indexer] = value instead\n",
      "\n",
      "See the caveats in the documentation: https://pandas.pydata.org/pandas-docs/stable/user_guide/indexing.html#returning-a-view-versus-a-copy\n",
      "  df_1940['noir']=noir\n",
      "<ipython-input-12-1668ba26c42a>:23: SettingWithCopyWarning: \n",
      "A value is trying to be set on a copy of a slice from a DataFrame.\n",
      "Try using .loc[row_indexer,col_indexer] = value instead\n",
      "\n",
      "See the caveats in the documentation: https://pandas.pydata.org/pandas-docs/stable/user_guide/indexing.html#returning-a-view-versus-a-copy\n",
      "  df_1940['R']= R\n",
      "<ipython-input-12-1668ba26c42a>:24: SettingWithCopyWarning: \n",
      "A value is trying to be set on a copy of a slice from a DataFrame.\n",
      "Try using .loc[row_indexer,col_indexer] = value instead\n",
      "\n",
      "See the caveats in the documentation: https://pandas.pydata.org/pandas-docs/stable/user_guide/indexing.html#returning-a-view-versus-a-copy\n",
      "  df_1940['G']= G\n",
      "<ipython-input-12-1668ba26c42a>:25: SettingWithCopyWarning: \n",
      "A value is trying to be set on a copy of a slice from a DataFrame.\n",
      "Try using .loc[row_indexer,col_indexer] = value instead\n",
      "\n",
      "See the caveats in the documentation: https://pandas.pydata.org/pandas-docs/stable/user_guide/indexing.html#returning-a-view-versus-a-copy\n",
      "  df_1940['B']= B\n"
     ]
    },
    {
     "data": {
      "text/plain": [
       "(84916, 11)"
      ]
     },
     "execution_count": 12,
     "metadata": {},
     "output_type": "execute_result"
    }
   ],
   "source": [
    "df_1940 = df[df['prdtypecode']==1940]\n",
    "\n",
    "images_1940 = np.array([np.array(Image.open(fname)) for fname in df_1940['fullpath']])\n",
    "\n",
    "blanc = []\n",
    "noir = []\n",
    "R = []\n",
    "G = []\n",
    "B = []\n",
    "\n",
    "for image in images_1940:\n",
    "    n_white_pix = np.sum(image == [255, 255, 255])/750000\n",
    "    n_black_pix = np.sum(image == [0,0,0])/750000\n",
    "    image_mean = np.mean(image, axis=(0, 1))\n",
    "    blanc.append(n_white_pix)\n",
    "    noir.append(n_black_pix)\n",
    "    R.append(image_mean[0])\n",
    "    G.append(image_mean[1])\n",
    "    B.append(image_mean[2])\n",
    "\n",
    "df_1940['blanc']=blanc\n",
    "df_1940['noir']=noir\n",
    "df_1940['R']= R\n",
    "df_1940['G']= G\n",
    "df_1940['B']= B\n",
    "\n",
    "\n",
    "df_image = pd.concat([df_image, df_1940])\n",
    "df_image.to_csv(index=False)\n",
    "df_image.shape"
   ]
  },
  {
   "cell_type": "code",
   "execution_count": 13,
   "metadata": {},
   "outputs": [
    {
     "data": {
      "text/plain": [
       "(84916, 5)"
      ]
     },
     "execution_count": 13,
     "metadata": {},
     "output_type": "execute_result"
    }
   ],
   "source": [
    "X_train.shape"
   ]
  },
  {
   "cell_type": "code",
   "execution_count": 14,
   "metadata": {},
   "outputs": [
    {
     "data": {
      "text/plain": [
       "Index(['Unnamed: 0', 'prdtypecode', 'productid', 'imageid', 'image_name',\n",
       "       'fullpath', 'blanc', 'noir', 'R', 'G', 'B'],\n",
       "      dtype='object')"
      ]
     },
     "execution_count": 14,
     "metadata": {},
     "output_type": "execute_result"
    }
   ],
   "source": [
    "df_image.columns"
   ]
  },
  {
   "cell_type": "code",
   "execution_count": 21,
   "metadata": {},
   "outputs": [],
   "source": [
    "#df_image = df_image.drop(['Unnamed: 0', 'imageid', 'image_name', 'fullpath'], axis=1)\n",
    "df_image.to_csv('df_features_images.csv',index=False)"
   ]
  },
  {
   "cell_type": "code",
   "execution_count": null,
   "metadata": {},
   "outputs": [],
   "source": []
  },
  {
   "cell_type": "code",
   "execution_count": null,
   "metadata": {},
   "outputs": [],
   "source": []
  }
 ],
 "metadata": {
  "kernelspec": {
   "display_name": "Python 3",
   "language": "python",
   "name": "python3"
  },
  "language_info": {
   "codemirror_mode": {
    "name": "ipython",
    "version": 3
   },
   "file_extension": ".py",
   "mimetype": "text/x-python",
   "name": "python",
   "nbconvert_exporter": "python",
   "pygments_lexer": "ipython3",
   "version": "3.8.5"
  }
 },
 "nbformat": 4,
 "nbformat_minor": 4
}
