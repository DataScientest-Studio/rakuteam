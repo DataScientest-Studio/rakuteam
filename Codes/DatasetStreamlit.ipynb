{
  "nbformat": 4,
  "nbformat_minor": 0,
  "metadata": {
    "colab": {
      "name": "DatasetStreamlit.ipynb",
      "provenance": [],
      "collapsed_sections": []
    },
    "kernelspec": {
      "name": "python3",
      "display_name": "Python 3"
    }
  },
  "cells": [
    {
      "cell_type": "code",
      "metadata": {
        "colab": {
          "base_uri": "https://localhost:8080/"
        },
        "id": "mf3FfNk0cMaK",
        "outputId": "36134f38-6bda-403f-eb79-2c8f43db02e3"
      },
      "source": [
        "#CONNEXION à google drive\n",
        "import pandas as pd\n",
        "from google.colab import drive\n",
        "\n",
        "drive.mount('/Drive')"
      ],
      "execution_count": 1,
      "outputs": [
        {
          "output_type": "stream",
          "text": [
            "Mounted at /Drive\n"
          ],
          "name": "stdout"
        }
      ]
    },
    {
      "cell_type": "code",
      "metadata": {
        "id": "5uHIUmAO7MB-"
      },
      "source": [
        "\n",
        "import re  \n",
        "import requests\n",
        "import io\n",
        "import pandas as pd"
      ],
      "execution_count": 3,
      "outputs": []
    },
    {
      "cell_type": "code",
      "metadata": {
        "id": "DnoO3ijYdDNH"
      },
      "source": [
        "url = \"https://raw.githubusercontent.com/JulienJ-44/rakuteam/main/Datasets/Dataset_challenge.csv\"\n",
        "download = requests.get(url).content\n",
        "df=pd.read_csv(io.StringIO(download.decode('utf-8')), index_col=0)\n",
        "classes_codes = (df['prdtypecode'].value_counts().index.tolist())\n",
        "df_10_27 =pd.DataFrame()\n",
        "#classes_codes=[2583, 1220, 22240, ...]\n",
        "for class_code in classes_codes:\n",
        "    #on copie dans un df les lignes correspondant au code de classe actuel\n",
        "    df_class = df[df[\"prdtypecode\"]==class_code]\n",
        "    df_10_27=pd.concat([df_10_27, df_class.head(10)], axis=0)\n"
      ],
      "execution_count": 23,
      "outputs": []
    },
    {
      "cell_type": "code",
      "metadata": {
        "colab": {
          "base_uri": "https://localhost:8080/"
        },
        "id": "leO60k4ykUgL",
        "outputId": "4da32c5b-579f-46d9-b70e-b8dcdfb725d5"
      },
      "source": [
        "df.info()"
      ],
      "execution_count": 24,
      "outputs": [
        {
          "output_type": "stream",
          "text": [
            "<class 'pandas.core.frame.DataFrame'>\n",
            "Int64Index: 98728 entries, 0 to 98727\n",
            "Data columns (total 5 columns):\n",
            " #   Column       Non-Null Count  Dtype  \n",
            "---  ------       --------------  -----  \n",
            " 0   designation  98728 non-null  object \n",
            " 1   description  64042 non-null  object \n",
            " 2   productid    98728 non-null  int64  \n",
            " 3   imageid      98728 non-null  int64  \n",
            " 4   prdtypecode  84916 non-null  float64\n",
            "dtypes: float64(1), int64(2), object(2)\n",
            "memory usage: 4.5+ MB\n"
          ],
          "name": "stdout"
        }
      ]
    },
    {
      "cell_type": "code",
      "metadata": {
        "colab": {
          "base_uri": "https://localhost:8080/",
          "height": 495
        },
        "id": "ukuKLIzRjl69",
        "outputId": "1c4a8d92-a7b5-4ec9-cb87-9d01db01e2da"
      },
      "source": [
        "\n",
        "print(\"image_\"+str(df.iloc[0,3]))\n",
        "df_10_27[\"nomimage\"]=\"\"\n",
        "for i in range(len(df_10_27)):\n",
        "  df_10_27.iloc[i,5]=\"image_\"+str(df_10_27.iloc[i,3])+\"_product_\"+str(df_10_27.iloc[i,2])+\".jpg\"\n",
        "\n",
        "df_10_27.head(10)"
      ],
      "execution_count": 30,
      "outputs": [
        {
          "output_type": "stream",
          "text": [
            "image_1263597046\n"
          ],
          "name": "stdout"
        },
        {
          "output_type": "execute_result",
          "data": {
            "text/html": [
              "<div>\n",
              "<style scoped>\n",
              "    .dataframe tbody tr th:only-of-type {\n",
              "        vertical-align: middle;\n",
              "    }\n",
              "\n",
              "    .dataframe tbody tr th {\n",
              "        vertical-align: top;\n",
              "    }\n",
              "\n",
              "    .dataframe thead th {\n",
              "        text-align: right;\n",
              "    }\n",
              "</style>\n",
              "<table border=\"1\" class=\"dataframe\">\n",
              "  <thead>\n",
              "    <tr style=\"text-align: right;\">\n",
              "      <th></th>\n",
              "      <th>designation</th>\n",
              "      <th>description</th>\n",
              "      <th>productid</th>\n",
              "      <th>imageid</th>\n",
              "      <th>prdtypecode</th>\n",
              "      <th>nomimage</th>\n",
              "    </tr>\n",
              "  </thead>\n",
              "  <tbody>\n",
              "    <tr>\n",
              "      <th>20</th>\n",
              "      <td>Kit de désinfection pour piscines enfants 20990</td>\n",
              "      <td>NaN</td>\n",
              "      <td>3936362802</td>\n",
              "      <td>1268740880</td>\n",
              "      <td>2583.0</td>\n",
              "      <td>image_1268740880_product_3936362802.jpg</td>\n",
              "    </tr>\n",
              "    <tr>\n",
              "      <th>39</th>\n",
              "      <td>Bouée gonflable River tube - OOGARDEN</td>\n",
              "      <td>Bouée gonflable River tube en PVC idéale pour ...</td>\n",
              "      <td>3147314797</td>\n",
              "      <td>1225887302</td>\n",
              "      <td>2583.0</td>\n",
              "      <td>image_1225887302_product_3147314797.jpg</td>\n",
              "    </tr>\n",
              "    <tr>\n",
              "      <th>53</th>\n",
              "      <td>Testeur électronique de pH</td>\n",
              "      <td>Utilisation du Testeur électronique de pHGrâce...</td>\n",
              "      <td>207151480</td>\n",
              "      <td>941622055</td>\n",
              "      <td>2583.0</td>\n",
              "      <td>image_941622055_product_207151480.jpg</td>\n",
              "    </tr>\n",
              "    <tr>\n",
              "      <th>58</th>\n",
              "      <td>Pompe de filtration Speck Badu 95</td>\n",
              "      <td>NaN</td>\n",
              "      <td>4128438373</td>\n",
              "      <td>1295960377</td>\n",
              "      <td>2583.0</td>\n",
              "      <td>image_1295960377_product_4128438373.jpg</td>\n",
              "    </tr>\n",
              "    <tr>\n",
              "      <th>64</th>\n",
              "      <td>AstralCom 1 CV Mono de DAB - Surpresseur piscine</td>\n",
              "      <td>Tension (V) : Monophasé - 230 V  Puissance : 1...</td>\n",
              "      <td>1857269337</td>\n",
              "      <td>1105831362</td>\n",
              "      <td>2583.0</td>\n",
              "      <td>image_1105831362_product_1857269337.jpg</td>\n",
              "    </tr>\n",
              "    <tr>\n",
              "      <th>65</th>\n",
              "      <td>Lot de 8 préfiltres jetables pour panier de sk...</td>\n",
              "      <td>Lots de 8 pré-filtres jetables de la marque Ma...</td>\n",
              "      <td>2534214666</td>\n",
              "      <td>1190251480</td>\n",
              "      <td>2583.0</td>\n",
              "      <td>image_1190251480_product_2534214666.jpg</td>\n",
              "    </tr>\n",
              "    <tr>\n",
              "      <th>70</th>\n",
              "      <td>Piscine gonflable de pulvérisation Forme Tortu...</td>\n",
              "      <td>&lt;p&gt;Cette merveilleuse piscine de pulvérisation...</td>\n",
              "      <td>3929890128</td>\n",
              "      <td>1265209491</td>\n",
              "      <td>2583.0</td>\n",
              "      <td>image_1265209491_product_3929890128.jpg</td>\n",
              "    </tr>\n",
              "    <tr>\n",
              "      <th>84</th>\n",
              "      <td>Bâche hiver pour piscine Toledo - 280 gr/m² - ...</td>\n",
              "      <td>&lt;p&gt;Bâche hiver pour piscine Toledo - 280 g/m² ...</td>\n",
              "      <td>1158987675</td>\n",
              "      <td>1065997226</td>\n",
              "      <td>2583.0</td>\n",
              "      <td>image_1065997226_product_1158987675.jpg</td>\n",
              "    </tr>\n",
              "    <tr>\n",
              "      <th>90</th>\n",
              "      <td>Idrasoft 5600 SXT - 30 L de marque Idrania - C...</td>\n",
              "      <td>Idrasoft 5600 SXT - 30 L de Idrania - Adouciss...</td>\n",
              "      <td>2050109964</td>\n",
              "      <td>1123155510</td>\n",
              "      <td>2583.0</td>\n",
              "      <td>image_1123155510_product_2050109964.jpg</td>\n",
              "    </tr>\n",
              "    <tr>\n",
              "      <th>91</th>\n",
              "      <td>Bâche de piscine bleue rectangulaire en PE 450...</td>\n",
              "      <td>Cette bâche solaire de piscine repose directem...</td>\n",
              "      <td>3855161611</td>\n",
              "      <td>1253151856</td>\n",
              "      <td>2583.0</td>\n",
              "      <td>image_1253151856_product_3855161611.jpg</td>\n",
              "    </tr>\n",
              "  </tbody>\n",
              "</table>\n",
              "</div>"
            ],
            "text/plain": [
              "                                          designation  ...                                 nomimage\n",
              "20    Kit de désinfection pour piscines enfants 20990  ...  image_1268740880_product_3936362802.jpg\n",
              "39              Bouée gonflable River tube - OOGARDEN  ...  image_1225887302_product_3147314797.jpg\n",
              "53                         Testeur électronique de pH  ...    image_941622055_product_207151480.jpg\n",
              "58                  Pompe de filtration Speck Badu 95  ...  image_1295960377_product_4128438373.jpg\n",
              "64   AstralCom 1 CV Mono de DAB - Surpresseur piscine  ...  image_1105831362_product_1857269337.jpg\n",
              "65  Lot de 8 préfiltres jetables pour panier de sk...  ...  image_1190251480_product_2534214666.jpg\n",
              "70  Piscine gonflable de pulvérisation Forme Tortu...  ...  image_1265209491_product_3929890128.jpg\n",
              "84  Bâche hiver pour piscine Toledo - 280 gr/m² - ...  ...  image_1065997226_product_1158987675.jpg\n",
              "90  Idrasoft 5600 SXT - 30 L de marque Idrania - C...  ...  image_1123155510_product_2050109964.jpg\n",
              "91  Bâche de piscine bleue rectangulaire en PE 450...  ...  image_1253151856_product_3855161611.jpg\n",
              "\n",
              "[10 rows x 6 columns]"
            ]
          },
          "metadata": {
            "tags": []
          },
          "execution_count": 30
        }
      ]
    },
    {
      "cell_type": "code",
      "metadata": {
        "id": "NM9v4Hd1FAnS"
      },
      "source": [
        "df_10_27.to_csv('/Drive/MyDrive/dataset_streamlit.csv')"
      ],
      "execution_count": 44,
      "outputs": []
    },
    {
      "cell_type": "code",
      "metadata": {
        "id": "S0gQP4LrdEC3"
      },
      "source": [
        "import shutil\n",
        "for i in range(1):#len(df_10_27)):\n",
        "  path=\"D:/DataScientest/images/images/image_train/\"\n",
        "  img = df_10_27.iloc[i,5]\n",
        "  img=path+img\n",
        "  print(img)\n",
        "  filePath = shutil.copy(img,'C:/Users/Dam/Documents/GitHub/rakuteam/Streamlit_rakuten/images')"
      ],
      "execution_count": null,
      "outputs": []
    },
    {
      "cell_type": "code",
      "metadata": {
        "id": "bARJ2zbqdENW"
      },
      "source": [
        "import requests\n",
        "import io\n",
        "import pandas as pd\n",
        "url = \"https://raw.githubusercontent.com/JulienJ-44/rakuteam/main/Datasets/dataset_streamlit.csv\"\n",
        "download = requests.get(url).content\n",
        "df=pd.read_csv(io.StringIO(download.decode('utf-8')), index_col=0)\n",
        "print(df.head(1))\n",
        "import shutil\n",
        "for i in range(len(df)):\n",
        "   \n",
        "  path=\"D:/DataScientest/images/images/image_train/\"\n",
        "  img = df.iloc[i,5]\n",
        "  \n",
        "  img=path+img\n",
        "  print(img)\n",
        "  try:\n",
        "      filePath = shutil.copy(img,'C:/Users/Dam/Documents/GitHub/rakuteam/Streamlit_rakuten/images')\n",
        "  except:\n",
        "      img=img"
      ],
      "execution_count": null,
      "outputs": []
    }
  ]
}