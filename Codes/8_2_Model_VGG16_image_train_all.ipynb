{
 "cells": [
  {
   "cell_type": "code",
   "execution_count": 1,
   "metadata": {},
   "outputs": [],
   "source": [
    "%matplotlib inline\n",
    "import numpy as np\n",
    "import matplotlib.pyplot as plt\n",
    "import time, cv2\n",
    "import seaborn as sns\n",
    "import pandas as pd\n",
    "from sklearn.model_selection import train_test_split\n",
    "from keras.layers import Dense, Dropout, Flatten, GlobalAveragePooling2D\n",
    "from keras.optimizers import Adam\n",
    "from keras.models import Model, Sequential\n",
    "from keras.preprocessing.image import ImageDataGenerator\n",
    "import keras\n",
    "from keras import backend as K\n",
    "from keras.applications.vgg16 import preprocess_input\n",
    "from keras.applications.vgg16 import VGG16"
   ]
  },
  {
   "cell_type": "code",
   "execution_count": 2,
   "metadata": {},
   "outputs": [],
   "source": [
    "#télécharger les datasets\n",
    "X_train = pd.read_csv(\"/Users/ayseaylinkaya/Desktop/Datascientist/2 Project Rakuten/X_train_update.csv\") \n",
    "X_test = pd.read_csv(\"/Users/ayseaylinkaya/Desktop/Datascientist/2 Project Rakuten/X_test_update.csv\") \n",
    "y_train = pd.read_csv(\"/Users/ayseaylinkaya/Desktop/Datascientist/2 Project Rakuten/Y_train_CVw08PX.csv\")"
   ]
  },
  {
   "cell_type": "code",
   "execution_count": 3,
   "metadata": {},
   "outputs": [
    {
     "data": {
      "text/html": [
       "<div>\n",
       "<style scoped>\n",
       "    .dataframe tbody tr th:only-of-type {\n",
       "        vertical-align: middle;\n",
       "    }\n",
       "\n",
       "    .dataframe tbody tr th {\n",
       "        vertical-align: top;\n",
       "    }\n",
       "\n",
       "    .dataframe thead th {\n",
       "        text-align: right;\n",
       "    }\n",
       "</style>\n",
       "<table border=\"1\" class=\"dataframe\">\n",
       "  <thead>\n",
       "    <tr style=\"text-align: right;\">\n",
       "      <th></th>\n",
       "      <th>Unnamed: 0</th>\n",
       "      <th>prdtypecode</th>\n",
       "      <th>productid</th>\n",
       "      <th>imageid</th>\n",
       "      <th>image_name</th>\n",
       "      <th>fullpath</th>\n",
       "    </tr>\n",
       "  </thead>\n",
       "  <tbody>\n",
       "    <tr>\n",
       "      <th>0</th>\n",
       "      <td>0</td>\n",
       "      <td>10</td>\n",
       "      <td>3804725264</td>\n",
       "      <td>1263597046</td>\n",
       "      <td>image_1263597046_product_3804725264.jpg</td>\n",
       "      <td>/Users/ayseaylinkaya/Desktop/Datascientist/2 P...</td>\n",
       "    </tr>\n",
       "    <tr>\n",
       "      <th>1</th>\n",
       "      <td>1</td>\n",
       "      <td>2280</td>\n",
       "      <td>436067568</td>\n",
       "      <td>1008141237</td>\n",
       "      <td>image_1008141237_product_436067568.jpg</td>\n",
       "      <td>/Users/ayseaylinkaya/Desktop/Datascientist/2 P...</td>\n",
       "    </tr>\n",
       "    <tr>\n",
       "      <th>2</th>\n",
       "      <td>2</td>\n",
       "      <td>50</td>\n",
       "      <td>201115110</td>\n",
       "      <td>938777978</td>\n",
       "      <td>image_938777978_product_201115110.jpg</td>\n",
       "      <td>/Users/ayseaylinkaya/Desktop/Datascientist/2 P...</td>\n",
       "    </tr>\n",
       "    <tr>\n",
       "      <th>3</th>\n",
       "      <td>3</td>\n",
       "      <td>1280</td>\n",
       "      <td>50418756</td>\n",
       "      <td>457047496</td>\n",
       "      <td>image_457047496_product_50418756.jpg</td>\n",
       "      <td>/Users/ayseaylinkaya/Desktop/Datascientist/2 P...</td>\n",
       "    </tr>\n",
       "    <tr>\n",
       "      <th>4</th>\n",
       "      <td>4</td>\n",
       "      <td>2705</td>\n",
       "      <td>278535884</td>\n",
       "      <td>1077757786</td>\n",
       "      <td>image_1077757786_product_278535884.jpg</td>\n",
       "      <td>/Users/ayseaylinkaya/Desktop/Datascientist/2 P...</td>\n",
       "    </tr>\n",
       "  </tbody>\n",
       "</table>\n",
       "</div>"
      ],
      "text/plain": [
       "   Unnamed: 0  prdtypecode   productid     imageid  \\\n",
       "0           0           10  3804725264  1263597046   \n",
       "1           1         2280   436067568  1008141237   \n",
       "2           2           50   201115110   938777978   \n",
       "3           3         1280    50418756   457047496   \n",
       "4           4         2705   278535884  1077757786   \n",
       "\n",
       "                                image_name  \\\n",
       "0  image_1263597046_product_3804725264.jpg   \n",
       "1   image_1008141237_product_436067568.jpg   \n",
       "2    image_938777978_product_201115110.jpg   \n",
       "3     image_457047496_product_50418756.jpg   \n",
       "4   image_1077757786_product_278535884.jpg   \n",
       "\n",
       "                                            fullpath  \n",
       "0  /Users/ayseaylinkaya/Desktop/Datascientist/2 P...  \n",
       "1  /Users/ayseaylinkaya/Desktop/Datascientist/2 P...  \n",
       "2  /Users/ayseaylinkaya/Desktop/Datascientist/2 P...  \n",
       "3  /Users/ayseaylinkaya/Desktop/Datascientist/2 P...  \n",
       "4  /Users/ayseaylinkaya/Desktop/Datascientist/2 P...  "
      ]
     },
     "execution_count": 3,
     "metadata": {},
     "output_type": "execute_result"
    }
   ],
   "source": [
    "#fusionner les training sets pour analyser les articles par classe\n",
    "X_train = X_train.sort_values(by = 'Unnamed: 0', ascending = True)\n",
    "y_train = y_train.sort_values(by = 'Unnamed: 0', ascending = True)\n",
    "part2 = X_train[X_train.columns[3:]]\n",
    "df = pd.concat([y_train,part2], axis=1)\n",
    "df[\"image_name\"] = \"image_\" + df.imageid.map(str)+ \"_product_\" + df.productid.map(str) + \".jpg\"\n",
    "df[\"image_name\"] = df[\"image_name\"].astype(str)\n",
    "df['fullpath']= '/Users/ayseaylinkaya/Desktop/Datascientist/2 Project Rakuten/images/image_train/'+ df['image_name']\n",
    "df.head()"
   ]
  },
  {
   "cell_type": "code",
   "execution_count": 4,
   "metadata": {},
   "outputs": [],
   "source": [
    "df['class'] = df['prdtypecode']\n",
    "\n",
    "df = df.replace({'class': {10: 1, 2280:2,   50:3, 1280:4, 2705:5, 2522:6, 2582:7, 1560:8, 1281:9, 1920:10, 2403:11,\n",
    "       1140:12, 2583:13, 1180:14, 1300:15, 2462:16, 1160:17, 2060:18,   40:19,   60:20, 1320:21, 1302:22,\n",
    "       2220:23, 2905:24, 2585:25, 1940:26, 1301:0}})"
   ]
  },
  {
   "cell_type": "code",
   "execution_count": 5,
   "metadata": {},
   "outputs": [
    {
     "data": {
      "text/html": [
       "<div>\n",
       "<style scoped>\n",
       "    .dataframe tbody tr th:only-of-type {\n",
       "        vertical-align: middle;\n",
       "    }\n",
       "\n",
       "    .dataframe tbody tr th {\n",
       "        vertical-align: top;\n",
       "    }\n",
       "\n",
       "    .dataframe thead th {\n",
       "        text-align: right;\n",
       "    }\n",
       "</style>\n",
       "<table border=\"1\" class=\"dataframe\">\n",
       "  <thead>\n",
       "    <tr style=\"text-align: right;\">\n",
       "      <th></th>\n",
       "      <th>productid</th>\n",
       "      <th>fullpath</th>\n",
       "      <th>class</th>\n",
       "    </tr>\n",
       "  </thead>\n",
       "  <tbody>\n",
       "    <tr>\n",
       "      <th>0</th>\n",
       "      <td>3804725264</td>\n",
       "      <td>/Users/ayseaylinkaya/Desktop/Datascientist/2 P...</td>\n",
       "      <td>1</td>\n",
       "    </tr>\n",
       "    <tr>\n",
       "      <th>1</th>\n",
       "      <td>436067568</td>\n",
       "      <td>/Users/ayseaylinkaya/Desktop/Datascientist/2 P...</td>\n",
       "      <td>2</td>\n",
       "    </tr>\n",
       "    <tr>\n",
       "      <th>2</th>\n",
       "      <td>201115110</td>\n",
       "      <td>/Users/ayseaylinkaya/Desktop/Datascientist/2 P...</td>\n",
       "      <td>3</td>\n",
       "    </tr>\n",
       "    <tr>\n",
       "      <th>3</th>\n",
       "      <td>50418756</td>\n",
       "      <td>/Users/ayseaylinkaya/Desktop/Datascientist/2 P...</td>\n",
       "      <td>4</td>\n",
       "    </tr>\n",
       "    <tr>\n",
       "      <th>4</th>\n",
       "      <td>278535884</td>\n",
       "      <td>/Users/ayseaylinkaya/Desktop/Datascientist/2 P...</td>\n",
       "      <td>5</td>\n",
       "    </tr>\n",
       "  </tbody>\n",
       "</table>\n",
       "</div>"
      ],
      "text/plain": [
       "    productid                                           fullpath  class\n",
       "0  3804725264  /Users/ayseaylinkaya/Desktop/Datascientist/2 P...      1\n",
       "1   436067568  /Users/ayseaylinkaya/Desktop/Datascientist/2 P...      2\n",
       "2   201115110  /Users/ayseaylinkaya/Desktop/Datascientist/2 P...      3\n",
       "3    50418756  /Users/ayseaylinkaya/Desktop/Datascientist/2 P...      4\n",
       "4   278535884  /Users/ayseaylinkaya/Desktop/Datascientist/2 P...      5"
      ]
     },
     "execution_count": 5,
     "metadata": {},
     "output_type": "execute_result"
    }
   ],
   "source": [
    "data = df.drop([\"Unnamed: 0\",\"prdtypecode\", \"imageid\", \"image_name\"], axis=1)\n",
    "data.head()"
   ]
  },
  {
   "cell_type": "code",
   "execution_count": 6,
   "metadata": {},
   "outputs": [],
   "source": [
    "#data_train, data_test = train_test_split(data, test_size = 0.2, random_state = 123)"
   ]
  },
  {
   "cell_type": "code",
   "execution_count": 8,
   "metadata": {},
   "outputs": [
    {
     "name": "stdout",
     "output_type": "stream",
     "text": [
      "Found 84916 validated image filenames belonging to 27 classes.\n"
     ]
    }
   ],
   "source": [
    "train_data_generator = ImageDataGenerator(preprocessing_function = preprocess_input)\n",
    "#test_data_generator = ImageDataGenerator(preprocessing_function = preprocess_input)\n",
    "\n",
    "batch_size = 32\n",
    "data[\"class\"] = data[\"class\"].astype(str)\n",
    "#data_test[\"class\"] = data_test[\"class\"].astype(str)\n",
    "\n",
    "train_generator = train_data_generator.flow_from_dataframe(dataframe=data,\n",
    "                                                           directory=\"\",\n",
    "                                                           x_col = \"fullpath\",\n",
    "                                                           class_mode =\"sparse\",\n",
    "                                                           target_size = (224 , 224),\n",
    "                                                           zoom_range = [0.5,1.0],\n",
    "                                                           batch_size = batch_size)\n",
    "\n",
    "#test_generator = test_data_generator.flow_from_dataframe(dataframe=data_test,\n",
    "#                                                         directory=\"\",\n",
    "#                                                         x_col = \"fullpath\",\n",
    "#                                                         class_mode =\"sparse\",\n",
    "#                                                         target_size = (224,224), \n",
    "#                                                         batch_size = batch_size,\n",
    "#                                                         shuffle = False)"
   ]
  },
  {
   "cell_type": "code",
   "execution_count": 9,
   "metadata": {},
   "outputs": [
    {
     "name": "stdout",
     "output_type": "stream",
     "text": [
      "Model: \"sequential\"\n",
      "_________________________________________________________________\n",
      "Layer (type)                 Output Shape              Param #   \n",
      "=================================================================\n",
      "vgg16 (Functional)           (None, None, None, 512)   14714688  \n",
      "_________________________________________________________________\n",
      "global_average_pooling2d (Gl (None, 512)               0         \n",
      "_________________________________________________________________\n",
      "dense (Dense)                (None, 1024)              525312    \n",
      "_________________________________________________________________\n",
      "dropout (Dropout)            (None, 1024)              0         \n",
      "_________________________________________________________________\n",
      "dense_1 (Dense)              (None, 512)               524800    \n",
      "_________________________________________________________________\n",
      "dropout_1 (Dropout)          (None, 512)               0         \n",
      "_________________________________________________________________\n",
      "dense_2 (Dense)              (None, 27)                13851     \n",
      "=================================================================\n",
      "Total params: 15,778,651\n",
      "Trainable params: 1,063,963\n",
      "Non-trainable params: 14,714,688\n",
      "_________________________________________________________________\n"
     ]
    }
   ],
   "source": [
    "base_model = VGG16(weights='imagenet', include_top=False)\n",
    "\n",
    "for layer in base_model.layers: \n",
    "    layer.trainable = False\n",
    "\n",
    "model = Sequential()\n",
    "\n",
    "model.add(base_model) \n",
    "\n",
    "model.add(GlobalAveragePooling2D())\n",
    "model.add(Dense(1024,activation='relu'))\n",
    "\n",
    "model.add(Dropout(rate=0.2))\n",
    "model.add(Dense(512, activation='relu'))\n",
    "\n",
    "model.add(Dropout(rate=0.2))\n",
    "model.add(Dense(27, activation='softmax'))\n",
    "\n",
    "model.compile(optimizer='adam', loss='sparse_categorical_crossentropy', metrics=['acc'])\n",
    "model.summary()"
   ]
  },
  {
   "cell_type": "code",
   "execution_count": 17,
   "metadata": {},
   "outputs": [],
   "source": [
    "from keras.callbacks import EarlyStopping, ModelCheckpoint\n",
    "\n",
    "my_callbacks = [\n",
    "    EarlyStopping(monitor = 'loss', patience = 3, mode = 'min', restore_best_weights = True),\n",
    "    ModelCheckpoint(filepath='/Users/ayseaylinkaya/Desktop/Datascientist/2 Project Rakuten/model_image_all.{epoch:02d}-{loss:.2f}.h5'),\n",
    "]"
   ]
  },
  {
   "cell_type": "code",
   "execution_count": null,
   "metadata": {},
   "outputs": [
    {
     "name": "stdout",
     "output_type": "stream",
     "text": [
      "Epoch 1/10\n",
      "2653/2653 [==============================] - 11192s 4s/step - loss: 1.4474 - acc: 0.5669\n",
      "Epoch 2/10\n",
      "2653/2653 [==============================] - 10560s 4s/step - loss: 1.3743 - acc: 0.5859\n",
      "Epoch 3/10\n",
      "2653/2653 [==============================] - 10447s 4s/step - loss: 1.3233 - acc: 0.5974\n",
      "Epoch 4/10\n",
      "2653/2653 [==============================] - 10457s 4s/step - loss: 1.2752 - acc: 0.6125\n",
      "Epoch 5/10\n",
      "2653/2653 [==============================] - 10433s 4s/step - loss: 1.2335 - acc: 0.6237\n",
      "Epoch 6/10\n",
      "2653/2653 [==============================] - 10975s 4s/step - loss: 1.2039 - acc: 0.6299\n",
      "Epoch 7/10\n",
      "2415/2653 [==========================>...] - ETA: 20:19 - loss: 1.1700 - acc: 0.6415"
     ]
    }
   ],
   "source": [
    "history = model.fit_generator(generator=train_generator, \n",
    "                                epochs = 10,\n",
    "                                steps_per_epoch = len(data)//batch_size,\n",
    "                                callbacks=my_callbacks)"
   ]
  },
  {
   "cell_type": "code",
   "execution_count": null,
   "metadata": {},
   "outputs": [],
   "source": []
  },
  {
   "cell_type": "code",
   "execution_count": null,
   "metadata": {},
   "outputs": [],
   "source": []
  },
  {
   "cell_type": "code",
   "execution_count": null,
   "metadata": {},
   "outputs": [],
   "source": []
  }
 ],
 "metadata": {
  "kernelspec": {
   "display_name": "Python 3",
   "language": "python",
   "name": "python3"
  },
  "language_info": {
   "codemirror_mode": {
    "name": "ipython",
    "version": 3
   },
   "file_extension": ".py",
   "mimetype": "text/x-python",
   "name": "python",
   "nbconvert_exporter": "python",
   "pygments_lexer": "ipython3",
   "version": "3.8.5"
  }
 },
 "nbformat": 4,
 "nbformat_minor": 4
}
