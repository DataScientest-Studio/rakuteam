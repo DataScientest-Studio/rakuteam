{
 "cells": [
  {
   "cell_type": "code",
   "execution_count": 1,
   "metadata": {},
   "outputs": [],
   "source": [
    "#Predictions sur les images test avec le model_image_all.06-1.20.h5"
   ]
  },
  {
   "cell_type": "code",
   "execution_count": 8,
   "metadata": {},
   "outputs": [],
   "source": [
    "import pandas as pd\n",
    "import numpy as np\n",
    "import matplotlib.pyplot as plt\n",
    "from matplotlib import cm\n",
    "%matplotlib inline\n",
    "import seaborn as sns\n",
    "\n",
    "from sklearn.model_selection import train_test_split\n",
    "from sklearn import metrics\n",
    "\n",
    "from time import time\n",
    "\n",
    "from keras.preprocessing.image import ImageDataGenerator\n",
    "import keras\n",
    "\n",
    "from keras.models import load_model\n",
    "from keras.applications.vgg16 import preprocess_input\n",
    "\n",
    "import requests\n",
    "import io"
   ]
  },
  {
   "cell_type": "code",
   "execution_count": 9,
   "metadata": {},
   "outputs": [],
   "source": [
    "#télécharger le model\n",
    "model = load_model('/Users/ayseaylinkaya/Desktop/Datascientist/2 Project Rakuten/model_image_all.06-1.20.h5') "
   ]
  },
  {
   "cell_type": "code",
   "execution_count": 10,
   "metadata": {},
   "outputs": [
    {
     "data": {
      "text/html": [
       "<div>\n",
       "<style scoped>\n",
       "    .dataframe tbody tr th:only-of-type {\n",
       "        vertical-align: middle;\n",
       "    }\n",
       "\n",
       "    .dataframe tbody tr th {\n",
       "        vertical-align: top;\n",
       "    }\n",
       "\n",
       "    .dataframe thead th {\n",
       "        text-align: right;\n",
       "    }\n",
       "</style>\n",
       "<table border=\"1\" class=\"dataframe\">\n",
       "  <thead>\n",
       "    <tr style=\"text-align: right;\">\n",
       "      <th></th>\n",
       "      <th>Unnamed: 0</th>\n",
       "      <th>designation</th>\n",
       "      <th>description</th>\n",
       "      <th>productid</th>\n",
       "      <th>imageid</th>\n",
       "    </tr>\n",
       "  </thead>\n",
       "  <tbody>\n",
       "    <tr>\n",
       "      <th>0</th>\n",
       "      <td>84916</td>\n",
       "      <td>Folkmanis Puppets - 2732 - Marionnette Et Théâ...</td>\n",
       "      <td>NaN</td>\n",
       "      <td>516376098</td>\n",
       "      <td>1019294171</td>\n",
       "    </tr>\n",
       "    <tr>\n",
       "      <th>1</th>\n",
       "      <td>84917</td>\n",
       "      <td>Porte Flamme Gaxix - Flamebringer Gaxix - 136/...</td>\n",
       "      <td>NaN</td>\n",
       "      <td>133389013</td>\n",
       "      <td>1274228667</td>\n",
       "    </tr>\n",
       "    <tr>\n",
       "      <th>2</th>\n",
       "      <td>84918</td>\n",
       "      <td>Pompe de filtration Speck Badu 95</td>\n",
       "      <td>NaN</td>\n",
       "      <td>4128438366</td>\n",
       "      <td>1295960357</td>\n",
       "    </tr>\n",
       "    <tr>\n",
       "      <th>3</th>\n",
       "      <td>84919</td>\n",
       "      <td>Robot de piscine électrique</td>\n",
       "      <td>&lt;p&gt;Ce robot de piscine d&amp;#39;un design innovan...</td>\n",
       "      <td>3929899732</td>\n",
       "      <td>1265224052</td>\n",
       "    </tr>\n",
       "    <tr>\n",
       "      <th>4</th>\n",
       "      <td>84920</td>\n",
       "      <td>Hsm Destructeur Securio C16 Coupe Crois¿E: 4 X...</td>\n",
       "      <td>NaN</td>\n",
       "      <td>152993898</td>\n",
       "      <td>940543690</td>\n",
       "    </tr>\n",
       "  </tbody>\n",
       "</table>\n",
       "</div>"
      ],
      "text/plain": [
       "   Unnamed: 0                                        designation  \\\n",
       "0       84916  Folkmanis Puppets - 2732 - Marionnette Et Théâ...   \n",
       "1       84917  Porte Flamme Gaxix - Flamebringer Gaxix - 136/...   \n",
       "2       84918                  Pompe de filtration Speck Badu 95   \n",
       "3       84919                        Robot de piscine électrique   \n",
       "4       84920  Hsm Destructeur Securio C16 Coupe Crois¿E: 4 X...   \n",
       "\n",
       "                                         description   productid     imageid  \n",
       "0                                                NaN   516376098  1019294171  \n",
       "1                                                NaN   133389013  1274228667  \n",
       "2                                                NaN  4128438366  1295960357  \n",
       "3  <p>Ce robot de piscine d&#39;un design innovan...  3929899732  1265224052  \n",
       "4                                                NaN   152993898   940543690  "
      ]
     },
     "execution_count": 10,
     "metadata": {},
     "output_type": "execute_result"
    }
   ],
   "source": [
    "url = \"https://raw.githubusercontent.com/JulienJ-44/rakuteam/main/Datasets/X_test_update.csv\" \n",
    "download = requests.get(url).content\n",
    "\n",
    "X_test= pd.read_csv(io.StringIO(download.decode('utf-8')))\n",
    "\n",
    "X_test.head()"
   ]
  },
  {
   "cell_type": "code",
   "execution_count": 11,
   "metadata": {},
   "outputs": [
    {
     "data": {
      "text/html": [
       "<div>\n",
       "<style scoped>\n",
       "    .dataframe tbody tr th:only-of-type {\n",
       "        vertical-align: middle;\n",
       "    }\n",
       "\n",
       "    .dataframe tbody tr th {\n",
       "        vertical-align: top;\n",
       "    }\n",
       "\n",
       "    .dataframe thead th {\n",
       "        text-align: right;\n",
       "    }\n",
       "</style>\n",
       "<table border=\"1\" class=\"dataframe\">\n",
       "  <thead>\n",
       "    <tr style=\"text-align: right;\">\n",
       "      <th></th>\n",
       "      <th>productid</th>\n",
       "      <th>imageid</th>\n",
       "      <th>image_name</th>\n",
       "      <th>fullpath</th>\n",
       "    </tr>\n",
       "  </thead>\n",
       "  <tbody>\n",
       "    <tr>\n",
       "      <th>0</th>\n",
       "      <td>516376098</td>\n",
       "      <td>1019294171</td>\n",
       "      <td>image_1019294171_product_516376098.jpg</td>\n",
       "      <td>/Users/ayseaylinkaya/Desktop/Datascientist/2 P...</td>\n",
       "    </tr>\n",
       "    <tr>\n",
       "      <th>1</th>\n",
       "      <td>133389013</td>\n",
       "      <td>1274228667</td>\n",
       "      <td>image_1274228667_product_133389013.jpg</td>\n",
       "      <td>/Users/ayseaylinkaya/Desktop/Datascientist/2 P...</td>\n",
       "    </tr>\n",
       "    <tr>\n",
       "      <th>2</th>\n",
       "      <td>4128438366</td>\n",
       "      <td>1295960357</td>\n",
       "      <td>image_1295960357_product_4128438366.jpg</td>\n",
       "      <td>/Users/ayseaylinkaya/Desktop/Datascientist/2 P...</td>\n",
       "    </tr>\n",
       "    <tr>\n",
       "      <th>3</th>\n",
       "      <td>3929899732</td>\n",
       "      <td>1265224052</td>\n",
       "      <td>image_1265224052_product_3929899732.jpg</td>\n",
       "      <td>/Users/ayseaylinkaya/Desktop/Datascientist/2 P...</td>\n",
       "    </tr>\n",
       "    <tr>\n",
       "      <th>4</th>\n",
       "      <td>152993898</td>\n",
       "      <td>940543690</td>\n",
       "      <td>image_940543690_product_152993898.jpg</td>\n",
       "      <td>/Users/ayseaylinkaya/Desktop/Datascientist/2 P...</td>\n",
       "    </tr>\n",
       "  </tbody>\n",
       "</table>\n",
       "</div>"
      ],
      "text/plain": [
       "    productid     imageid                               image_name  \\\n",
       "0   516376098  1019294171   image_1019294171_product_516376098.jpg   \n",
       "1   133389013  1274228667   image_1274228667_product_133389013.jpg   \n",
       "2  4128438366  1295960357  image_1295960357_product_4128438366.jpg   \n",
       "3  3929899732  1265224052  image_1265224052_product_3929899732.jpg   \n",
       "4   152993898   940543690    image_940543690_product_152993898.jpg   \n",
       "\n",
       "                                            fullpath  \n",
       "0  /Users/ayseaylinkaya/Desktop/Datascientist/2 P...  \n",
       "1  /Users/ayseaylinkaya/Desktop/Datascientist/2 P...  \n",
       "2  /Users/ayseaylinkaya/Desktop/Datascientist/2 P...  \n",
       "3  /Users/ayseaylinkaya/Desktop/Datascientist/2 P...  \n",
       "4  /Users/ayseaylinkaya/Desktop/Datascientist/2 P...  "
      ]
     },
     "execution_count": 11,
     "metadata": {},
     "output_type": "execute_result"
    }
   ],
   "source": [
    "X_test = X_test.drop([\"Unnamed: 0\", \"designation\", \"description\"], axis=1)\n",
    "X_test[\"image_name\"] = \"image_\" + X_test.imageid.map(str)+ \"_product_\" + X_test.productid.map(str) + \".jpg\"\n",
    "X_test[\"image_name\"] = X_test[\"image_name\"].astype(str)\n",
    "\n",
    "#changer le path au path de vos images\n",
    "X_test['fullpath']= '/Users/ayseaylinkaya/Desktop/Datascientist/2 Project Rakuten/images/image_test/'+ X_test['image_name']\n",
    "X_test.head()"
   ]
  },
  {
   "cell_type": "code",
   "execution_count": 14,
   "metadata": {},
   "outputs": [
    {
     "name": "stderr",
     "output_type": "stream",
     "text": [
      "100%|██████████| 13812/13812 [02:34<00:00, 89.44it/s] \n"
     ]
    }
   ],
   "source": [
    "import tensorflow as tf\n",
    "from tqdm import tqdm\n",
    "\n",
    "X_test_path = X_test.fullpath\n",
    "\n",
    "X_test_images = []\n",
    "for filepath in tqdm(X_test_path):\n",
    "    # Read the file\n",
    "    im = tf.io.read_file(filepath)\n",
    "    # Decode the file\n",
    "    im = tf.image.decode_jpeg(im, channels=3)\n",
    "    # Resizing\n",
    "    im = tf.image.resize(im, size=(224,224))\n",
    "    X_test_images.append([im])\n",
    "    \n",
    "X_test_images = tf.concat(X_test_images, axis=0)"
   ]
  },
  {
   "cell_type": "code",
   "execution_count": 15,
   "metadata": {},
   "outputs": [
    {
     "data": {
      "text/plain": [
       "array([[8.9791559e-02, 4.3010859e-05, 4.0371638e-02, ..., 6.2395293e-02,\n",
       "        6.7115322e-02, 3.3172712e-02],\n",
       "       [7.6006686e-20, 1.8089962e-15, 1.0263491e-21, ..., 5.2812497e-25,\n",
       "        2.1603970e-24, 7.3932701e-05],\n",
       "       [0.0000000e+00, 0.0000000e+00, 0.0000000e+00, ..., 3.2565012e-21,\n",
       "        2.1627671e-31, 9.0709923e-38],\n",
       "       ...,\n",
       "       [0.0000000e+00, 0.0000000e+00, 0.0000000e+00, ..., 3.0891796e-25,\n",
       "        6.6281726e-33, 6.5420706e-38],\n",
       "       [4.6265577e-03, 8.5841055e-04, 3.2817457e-02, ..., 5.9962913e-02,\n",
       "        3.7757573e-01, 9.4399445e-02],\n",
       "       [1.9183846e-13, 3.9142112e-18, 2.2399432e-08, ..., 4.0051886e-03,\n",
       "        6.7978487e-03, 2.3451925e-09]], dtype=float32)"
      ]
     },
     "execution_count": 15,
     "metadata": {},
     "output_type": "execute_result"
    }
   ],
   "source": [
    "y_pred_proba = model.predict(X_test_images, batch_size=64)\n",
    "y_pred_proba"
   ]
  },
  {
   "cell_type": "code",
   "execution_count": 18,
   "metadata": {},
   "outputs": [
    {
     "data": {
      "text/plain": [
       "array([ 5,  9,  5, ...,  5, 25, 15])"
      ]
     },
     "execution_count": 18,
     "metadata": {},
     "output_type": "execute_result"
    }
   ],
   "source": [
    "# Label prediction\n",
    "y_pred_class = tf.argmax(y_pred_proba, axis=-1).numpy()\n",
    "y_pred_class"
   ]
  },
  {
   "cell_type": "code",
   "execution_count": 19,
   "metadata": {},
   "outputs": [],
   "source": [
    "df_tosave=pd.DataFrame(y_pred_proba)\n",
    "path = '/Users/ayseaylinkaya/Desktop/Datascientist/2 Project Rakuten/'\n",
    "df_tosave.to_csv(f'{path}/ypred_proba_model_image_all.06-1.20.csv')"
   ]
  },
  {
   "cell_type": "code",
   "execution_count": null,
   "metadata": {},
   "outputs": [],
   "source": []
  },
  {
   "cell_type": "code",
   "execution_count": null,
   "metadata": {},
   "outputs": [],
   "source": []
  }
 ],
 "metadata": {
  "kernelspec": {
   "display_name": "Python 3",
   "language": "python",
   "name": "python3"
  },
  "language_info": {
   "codemirror_mode": {
    "name": "ipython",
    "version": 3
   },
   "file_extension": ".py",
   "mimetype": "text/x-python",
   "name": "python",
   "nbconvert_exporter": "python",
   "pygments_lexer": "ipython3",
   "version": "3.8.5"
  }
 },
 "nbformat": 4,
 "nbformat_minor": 4
}
