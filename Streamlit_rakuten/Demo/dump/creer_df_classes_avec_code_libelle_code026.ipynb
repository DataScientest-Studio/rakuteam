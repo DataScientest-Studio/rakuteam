{
  "nbformat": 4,
  "nbformat_minor": 0,
  "metadata": {
    "colab": {
      "name": "creer_df_classes_avec_code_libelle_code026.ipynb",
      "provenance": [],
      "collapsed_sections": []
    },
    "kernelspec": {
      "name": "python3",
      "display_name": "Python 3"
    },
    "language_info": {
      "name": "python"
    }
  },
  "cells": [
    {
      "cell_type": "code",
      "metadata": {
        "colab": {
          "base_uri": "https://localhost:8080/"
        },
        "id": "437sB1ODWM7S",
        "outputId": "832ffdea-96b7-4848-cf11-52973090d3c0"
      },
      "source": [
        "# Connection au google drive \n",
        "from google.colab import drive\n",
        "drive.mount('/Drive')\n",
        "pathSaveCsv = '/Drive/My Drive'\n",
        "import pandas as pd\n",
        "import numpy as np\n",
        "\n",
        "from sklearn import preprocessing\n",
        "from sklearn.model_selection import train_test_split, cross_val_score, cross_validate\n",
        "from sklearn.metrics import mean_squared_error\n",
        "\n",
        "import matplotlib.pyplot as plt\n",
        "%matplotlib inline\n",
        "import seaborn as sns\n",
        "\n",
        "from sklearn.decomposition import PCA\n",
        "from sklearn.model_selection import train_test_split\n",
        "import requests\n",
        "import io\n",
        "#dataframe de correspondances prdtypecode/libellé\n",
        "tab_designation = {}\n",
        "\n",
        "tab_code_designation = {'prdtypecode':\n",
        "                                  (2583,1560,1300,2060,2522,1280,2403,2280,1920,1160,\n",
        "                                  1320,10,2705,1140,2582,40,2585,1302,1281,50,2462,2905,\n",
        "                                  60,2220,1301,1940,1180),\n",
        "                    'désignation':('PISCINE & ACCESSOIRES',\n",
        "                                  'MAISON: cusine, mobiliers',\n",
        "                                  'JOUETS RADIO COMMANDES',               \n",
        "                                  'LUMINAIRES, DECO',\n",
        "                                  'FOURNITURE de BUREAU',\n",
        "                                  'JOUETS ENFANTS',\n",
        "                                  'LIVRES & MAGASINES: histoire, musées',\n",
        "                                  \"REVUES d'ARTS et SPECTACLES\",\n",
        "                                  \"LITERIE, TEXTILE MAISON\",\n",
        "                                  \"CARTES à COLLECTIONNER\",\n",
        "                                  \"ACCESSOIRES BEBES\",\n",
        "                                  \"LITTERATURE/ROMANS (occasions?)\",\n",
        "                                  \"ROMAN: livre histoire?\",\n",
        "                                  \"FIGURINES MANGAS\",\n",
        "                                  \"MOBILIER & ACCESSOIRES extérieur\",\n",
        "                                  \"JEUX VIDEOS (import?)\",\n",
        "                                  \"OUTILS JARDINS\",\n",
        "                                  \"LOISIRS/EQUIPEMENT extérieur\",\n",
        "                                  \"JEUX EDUCATIFS ENFANTS\",\n",
        "                                  \"ACCESSOIRES CONSOLES de JEUX\",\n",
        "                                  \"JEUX VIDEOS OCCASIONS\",\n",
        "                                  \"JEUX PC\",\n",
        "                                  \"CONSOLES de JEUX\",\n",
        "                                  \"ACCESSOIRES ANIMAUX\",\n",
        "                                  \"VETEMENTS ENFANTS/BEBE\",\n",
        "                                  \"ALIMENTATIONS, CONFISERIES, CAFE\",\n",
        "                                  \"JEUX DE GUERRE sur TABLE\")}\n",
        "\n",
        "df_code_designation = pd.DataFrame(tab_code_designation)\n",
        "df_code_designation = df_code_designation.sort_values('prdtypecode')\n",
        "df_code_designation[\"code_0a26\"]=df_code_designation['prdtypecode']\n",
        "df_code_designation = df_code_designation.replace({'code_0a26': {10: 1, 2280:2,   50:3, 1280:4, 2705:5, 2522:6, 2582:7, 1560:8, 1281:9, 1920:10, 2403:11,\n",
        "       1140:12, 2583:13, 1180:14, 1300:15, 2462:16, 1160:17, 2060:18,   40:19,   60:20, 1320:21, 1302:22,\n",
        "       2220:23, 2905:24, 2585:25, 1940:26, 1301:0}})\n",
        "print(df_code_designation.head(15))\n",
        "df_code_designation.to_csv(f'{pathSaveCsv}/df_classes_avec_code_libelle_code026.csv')"
      ],
      "execution_count": 3,
      "outputs": [
        {
          "output_type": "stream",
          "text": [
            "Drive already mounted at /Drive; to attempt to forcibly remount, call drive.mount(\"/Drive\", force_remount=True).\n",
            "    prdtypecode                      désignation  code_0a26\n",
            "11           10  LITTERATURE/ROMANS (occasions?)          1\n",
            "15           40            JEUX VIDEOS (import?)         19\n",
            "19           50     ACCESSOIRES CONSOLES de JEUX          3\n",
            "22           60                 CONSOLES de JEUX         20\n",
            "13         1140                 FIGURINES MANGAS         12\n",
            "9          1160           CARTES à COLLECTIONNER         17\n",
            "26         1180         JEUX DE GUERRE sur TABLE         14\n",
            "5          1280                   JOUETS ENFANTS          4\n",
            "18         1281           JEUX EDUCATIFS ENFANTS          9\n",
            "2          1300           JOUETS RADIO COMMANDES         15\n",
            "24         1301           VETEMENTS ENFANTS/BEBE          0\n",
            "17         1302     LOISIRS/EQUIPEMENT extérieur         22\n",
            "10         1320                ACCESSOIRES BEBES         21\n",
            "1          1560        MAISON: cusine, mobiliers          8\n",
            "8          1920          LITERIE, TEXTILE MAISON         10\n"
          ],
          "name": "stdout"
        }
      ]
    }
  ]
}